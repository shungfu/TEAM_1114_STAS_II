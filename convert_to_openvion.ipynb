{
 "cells": [
  {
   "cell_type": "code",
   "execution_count": 1,
   "metadata": {},
   "outputs": [
    {
     "name": "stderr",
     "output_type": "stream",
     "text": [
      "/home/shung/miniconda3/envs/STAS/lib/python3.8/site-packages/tqdm/auto.py:22: TqdmWarning: IProgress not found. Please update jupyter and ipywidgets. See https://ipywidgets.readthedocs.io/en/stable/user_install.html\n",
      "  from .autonotebook import tqdm as notebook_tqdm\n"
     ]
    }
   ],
   "source": [
    "import os\n",
    "\n",
    "from torch.autograd import Variable\n",
    "import torch\n",
    "from torch.utils.data import DataLoader\n",
    "from torch.utils.data import Dataset\n",
    "import albumentations as albu\n",
    "import numpy as np\n",
    "import cv2\n",
    "import segmentation_models_pytorch as smp\n",
    "import matplotlib.pyplot as plt\n",
    "\n",
    "import config as cfg\n",
    "\n"
   ]
  },
  {
   "cell_type": "code",
   "execution_count": 2,
   "metadata": {},
   "outputs": [],
   "source": [
    "\n",
    "DEVICE='cuda'\n",
    "\n",
    "dummy_input = torch.randn(1, 3, 800, 1600).to(DEVICE)"
   ]
  },
  {
   "cell_type": "code",
   "execution_count": 3,
   "metadata": {},
   "outputs": [],
   "source": [
    "# resnet50 = torch.load('./Models/Deeplabv3P_resnet50_batch16.pth')\n",
    "# resnet50.eval()\n",
    "# torch.onnx.export(resnet50.module, dummy_input, \"SMP_resnet50.onnx\", verbose=True, )"
   ]
  },
  {
   "cell_type": "code",
   "execution_count": 4,
   "metadata": {},
   "outputs": [
    {
     "data": {
      "text/plain": [
       "['Deeplabv3P_resnet152_batch8.pth',\n",
       " 'Deeplabv3P_resnext50_batch12.pth',\n",
       " 'Deeplabv3P_resnext101_batch8.pth',\n",
       " 'Deeplabv3P_resnet101_batch12.pth',\n",
       " 'Deeplabv3P_se_resnet50_batch12.pth',\n",
       " 'Deeplabv3P_resnet50_batch16.pth']"
      ]
     },
     "execution_count": 4,
     "metadata": {},
     "output_type": "execute_result"
    }
   ],
   "source": [
    "models = os.listdir(cfg.MODEL_DIR)\n",
    "models"
   ]
  },
  {
   "cell_type": "code",
   "execution_count": 5,
   "metadata": {},
   "outputs": [
    {
     "name": "stderr",
     "output_type": "stream",
     "text": [
      "WARNING: The shape inference of prim::Constant type is missing, so it may result in wrong shape inference for the exported graph. Please consider adding it in symbolic function.\n",
      "WARNING: The shape inference of prim::Constant type is missing, so it may result in wrong shape inference for the exported graph. Please consider adding it in symbolic function.\n",
      "WARNING: The shape inference of prim::Constant type is missing, so it may result in wrong shape inference for the exported graph. Please consider adding it in symbolic function.\n",
      "WARNING: The shape inference of prim::Constant type is missing, so it may result in wrong shape inference for the exported graph. Please consider adding it in symbolic function.\n",
      "WARNING: The shape inference of prim::Constant type is missing, so it may result in wrong shape inference for the exported graph. Please consider adding it in symbolic function.\n",
      "WARNING: The shape inference of prim::Constant type is missing, so it may result in wrong shape inference for the exported graph. Please consider adding it in symbolic function.\n",
      "WARNING: The shape inference of prim::Constant type is missing, so it may result in wrong shape inference for the exported graph. Please consider adding it in symbolic function.\n",
      "WARNING: The shape inference of prim::Constant type is missing, so it may result in wrong shape inference for the exported graph. Please consider adding it in symbolic function.\n",
      "WARNING: The shape inference of prim::Constant type is missing, so it may result in wrong shape inference for the exported graph. Please consider adding it in symbolic function.\n",
      "WARNING: The shape inference of prim::Constant type is missing, so it may result in wrong shape inference for the exported graph. Please consider adding it in symbolic function.\n",
      "WARNING: The shape inference of prim::Constant type is missing, so it may result in wrong shape inference for the exported graph. Please consider adding it in symbolic function.\n",
      "WARNING: The shape inference of prim::Constant type is missing, so it may result in wrong shape inference for the exported graph. Please consider adding it in symbolic function.\n"
     ]
    }
   ],
   "source": [
    "for model_name in models:\n",
    "    smp_model = torch.load(os.path.join(cfg.MODEL_DIR, model_name))\n",
    "    smp_model.eval()\n",
    "    \n",
    "    onnx_name = model_name.split(\".\")[-1]\n",
    "    torch.onnx.export(smp_model.module, dummy_input, onnx_name, verbose=True)\n",
    "    print(f\"{onnx_name} DONE!\")\n",
    "    "
   ]
  },
  {
   "cell_type": "code",
   "execution_count": null,
   "metadata": {},
   "outputs": [],
   "source": [
    "# resnet50 = torch.load('./Models/Deeplabv3P_resnet50_batch16.pth')\n",
    "# resnet50.eval()\n",
    "# resnet101 = torch.load('./Models/Deeplabv3P_resnet101_batch12.pth')\n",
    "# resnet101.eval()\n",
    "# resnet152 = torch.load('./Models/Deeplabv3P_resnet152_batch8.pth')\n",
    "# resnet152.eval()\n",
    "# resnext50 = torch.load('./Models/Deeplabv3P_resnext50_batch12.pth')\n",
    "# resnext50.eval()\n",
    "# resnext101 = torch.load('./Models/Deeplabv3P_resnext101_batch8.pth')\n",
    "# resnext101.eval()\n",
    "# se_resnet50 = torch.load('./Models/Deeplabv3P_se_resnet50_batch12.pth')\n",
    "# se_resnet50.eval()"
   ]
  },
  {
   "cell_type": "code",
   "execution_count": null,
   "metadata": {},
   "outputs": [],
   "source": [
    "def to_tensor(x, **kwargs):\n",
    "    return x.transpose(2, 0, 1).astype('float32')"
   ]
  },
  {
   "cell_type": "code",
   "execution_count": null,
   "metadata": {},
   "outputs": [],
   "source": [
    "def get_preprocessing(preprocessing_fn):\n",
    "    \"\"\"Construct preprocessing transform\n",
    "    \n",
    "    Args:\n",
    "        preprocessing_fn (callbale): data normalization function \n",
    "            (can be specific for each pretrained neural network)\n",
    "    Return:\n",
    "        transform: albumentations.Compose\n",
    "    \n",
    "    \"\"\"\n",
    "    \n",
    "    _transform = [\n",
    "        albu.Lambda(image=preprocessing_fn),\n",
    "        albu.Lambda(image=to_tensor, mask=to_tensor),\n",
    "    ]\n",
    "    return albu.Compose(_transform)"
   ]
  },
  {
   "cell_type": "code",
   "execution_count": null,
   "metadata": {},
   "outputs": [],
   "source": [
    "class InferenceDataset(Dataset):\n",
    "    \"\"\"CamVid Dataset. Read images, apply augmentation and preprocessing transformations.\n",
    "    \n",
    "    Args:\n",
    "        images_dir (str): path to images folder\n",
    "        masks_dir (str): path to segmentation masks folder\n",
    "        class_values (list): values of classes to extract from segmentation mask\n",
    "        augmentation (albumentations.Compose): data transfromation pipeline \n",
    "            (e.g. flip, scale, etc.)\n",
    "        preprocessing (albumentations.Compose): data preprocessing \n",
    "            (e.g. noralization, shape manipulation, etc.)\n",
    "    \n",
    "    \"\"\"\n",
    "    \n",
    "    CLASSES = ['bg', 'stas']\n",
    "    \n",
    "    def __init__(\n",
    "            self, \n",
    "            images_dir,\n",
    "            preprocessing=None,\n",
    "    ):\n",
    "        self.ids = os.listdir(images_dir)\n",
    "        self.images_fps = [os.path.join(images_dir, image_id) for image_id in self.ids]\n",
    "        \n",
    "        self.preprocessing = preprocessing\n",
    "    \n",
    "    def __getitem__(self, i):\n",
    "        \n",
    "        # read data\n",
    "        image = cv2.imread(self.images_fps[i])\n",
    "        image = cv2.cvtColor(image, cv2.COLOR_BGR2RGB)\n",
    "        if image.shape != (800, 800, 3):\n",
    "            image = cv2.resize(image, (1600, 800), interpolation=cv2.INTER_LANCZOS4)\n",
    "\n",
    "        # apply preprocessing\n",
    "        if self.preprocessing:\n",
    "            sample = self.preprocessing(image=image)\n",
    "            image = sample['image']\n",
    "            \n",
    "        return image\n",
    "        \n",
    "    def __len__(self):\n",
    "        return len(self.ids)"
   ]
  },
  {
   "cell_type": "code",
   "execution_count": null,
   "metadata": {},
   "outputs": [],
   "source": [
    "ENCODER = 'resnet50'\n",
    "ENCODER_WEIGHTS = 'imagenet'\n",
    "\n",
    "preprocessing_fn = smp.encoders.get_preprocessing_fn(ENCODER, ENCODER_WEIGHTS)"
   ]
  },
  {
   "cell_type": "code",
   "execution_count": null,
   "metadata": {},
   "outputs": [],
   "source": [
    "inference_dataset = InferenceDataset(\n",
    "    cfg.INFERENCE_IMAGE_DIR, \n",
    "    preprocessing=get_preprocessing(preprocessing_fn)\n",
    ")"
   ]
  },
  {
   "cell_type": "code",
   "execution_count": null,
   "metadata": {},
   "outputs": [],
   "source": [
    "for i in range(len(inference_dataset)):\n",
    "    name = os.path.basename(inference_dataset.images_fps[i])\n",
    "    image_vis = inference_dataset[i][0]\n",
    "    image = inference_dataset[i]\n",
    "    print(image.shape)\n",
    "    \n",
    "    x_tensor = torch.from_numpy(image).to(DEVICE).unsqueeze(0)\n",
    "    with torch.no_grad():\n",
    "        pr_mask1 = resnet50(x_tensor)\n",
    "        pr_mask2 = resnet101(x_tensor)\n",
    "        pr_mask3 = resnet152(x_tensor)\n",
    "        pr_mask4 = resnext50(x_tensor)\n",
    "        pr_mask5 = resnext101(x_tensor)\n",
    "        pr_mask6 = se_resnet50(x_tensor)\n",
    "    pr_mask = (pr_mask1 + pr_mask2 + pr_mask3 + pr_mask4 + pr_mask5 + pr_mask6) / 6\n",
    "    pr_mask += 0.07\n",
    "    pr_mask = (pr_mask.squeeze().cpu().numpy().round())\n",
    "    zeros = np.zeros((800, 1600, 3))\n",
    "    zeros[...,0] = pr_mask\n",
    "    zeros[...,1] = pr_mask\n",
    "    zeros[...,2] = pr_mask\n",
    "    zeros = cv2.resize(zeros, (1716, 942))\n",
    "    plt.imsave(os.path.join(cfg.ENSEMBLE_PRED_DIR, name.replace('.jpg','.png')), zeros)"
   ]
  }
 ],
 "metadata": {
  "kernelspec": {
   "display_name": "Python 3.8.13 ('STAS')",
   "language": "python",
   "name": "python3"
  },
  "language_info": {
   "codemirror_mode": {
    "name": "ipython",
    "version": 3
   },
   "file_extension": ".py",
   "mimetype": "text/x-python",
   "name": "python",
   "nbconvert_exporter": "python",
   "pygments_lexer": "ipython3",
   "version": "3.8.13"
  },
  "orig_nbformat": 4,
  "vscode": {
   "interpreter": {
    "hash": "f2a77fa5ff3b4a3d842c95c61c2f24c3f02a794fe412cf17ca365a205b92adca"
   }
  }
 },
 "nbformat": 4,
 "nbformat_minor": 2
}
