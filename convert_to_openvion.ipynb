{
 "cells": [
  {
   "cell_type": "code",
   "execution_count": 1,
   "metadata": {},
   "outputs": [
    {
     "name": "stderr",
     "output_type": "stream",
     "text": [
      "/home/shung/miniconda3/envs/STAS/lib/python3.8/site-packages/tqdm/auto.py:22: TqdmWarning: IProgress not found. Please update jupyter and ipywidgets. See https://ipywidgets.readthedocs.io/en/stable/user_install.html\n",
      "  from .autonotebook import tqdm as notebook_tqdm\n"
     ]
    }
   ],
   "source": [
    "import os\n",
    "from pathlib import Path\n",
    "\n",
    "from torch.autograd import Variable\n",
    "import torch\n",
    "from torch.utils.data import DataLoader\n",
    "from torch.utils.data import Dataset\n",
    "import albumentations as albu\n",
    "import numpy as np\n",
    "import cv2\n",
    "import segmentation_models_pytorch as smp\n",
    "import matplotlib.pyplot as plt\n",
    "from IPython.display import Markdown, display\n",
    "\n",
    "import config as cfg"
   ]
  },
  {
   "cell_type": "code",
   "execution_count": 2,
   "metadata": {},
   "outputs": [],
   "source": [
    "OUTPUT_PATH = \"./OpenVINO\"\n",
    "BASE_MODEL_NAME = OUTPUT_PATH + \"/Deeplabv3P_resnet50_batch16\"\n",
    "\n",
    "IMAGE_WIDTH = 1600\n",
    "IMAGE_HEIGHT = 800\n",
    "DEVICE='cuda'"
   ]
  },
  {
   "cell_type": "code",
   "execution_count": 3,
   "metadata": {},
   "outputs": [],
   "source": [
    "if not os.path.exists(OUTPUT_PATH):\n",
    "    os.mkdir(OUTPUT_PATH)\n",
    "\n",
    "# Paths where PyTorch, ONNX and OpenVINO IR models will be stored.\n",
    "model_path = Path(BASE_MODEL_NAME).with_suffix(\".pth\")\n",
    "onnx_path = model_path.with_suffix(\".onnx\")\n",
    "ir_path = model_path.with_suffix(\".xml\")"
   ]
  },
  {
   "cell_type": "code",
   "execution_count": 4,
   "metadata": {},
   "outputs": [
    {
     "name": "stderr",
     "output_type": "stream",
     "text": [
      "WARNING: The shape inference of prim::Constant type is missing, so it may result in wrong shape inference for the exported graph. Please consider adding it in symbolic function.\n",
      "WARNING: The shape inference of prim::Constant type is missing, so it may result in wrong shape inference for the exported graph. Please consider adding it in symbolic function.\n",
      "WARNING: The shape inference of prim::Constant type is missing, so it may result in wrong shape inference for the exported graph. Please consider adding it in symbolic function.\n",
      "WARNING: The shape inference of prim::Constant type is missing, so it may result in wrong shape inference for the exported graph. Please consider adding it in symbolic function.\n",
      "WARNING: The shape inference of prim::Constant type is missing, so it may result in wrong shape inference for the exported graph. Please consider adding it in symbolic function.\n",
      "WARNING: The shape inference of prim::Constant type is missing, so it may result in wrong shape inference for the exported graph. Please consider adding it in symbolic function.\n",
      "WARNING: The shape inference of prim::Constant type is missing, so it may result in wrong shape inference for the exported graph. Please consider adding it in symbolic function.\n",
      "WARNING: The shape inference of prim::Constant type is missing, so it may result in wrong shape inference for the exported graph. Please consider adding it in symbolic function.\n",
      "WARNING: The shape inference of prim::Constant type is missing, so it may result in wrong shape inference for the exported graph. Please consider adding it in symbolic function.\n",
      "WARNING: The shape inference of prim::Constant type is missing, so it may result in wrong shape inference for the exported graph. Please consider adding it in symbolic function.\n",
      "WARNING: The shape inference of prim::Constant type is missing, so it may result in wrong shape inference for the exported graph. Please consider adding it in symbolic function.\n",
      "WARNING: The shape inference of prim::Constant type is missing, so it may result in wrong shape inference for the exported graph. Please consider adding it in symbolic function.\n"
     ]
    },
    {
     "name": "stdout",
     "output_type": "stream",
     "text": [
      "Exported graph: graph(%input.1 : Float(1, 3, 800, 1600, strides=[3840000, 1280000, 1600, 1], requires_grad=0, device=cuda:0),\n",
      "      %decoder.aspp.0.convs.1.0.0.weight : Float(2048, 1, 3, 3, strides=[9, 9, 3, 1], requires_grad=1, device=cuda:0),\n",
      "      %decoder.aspp.0.convs.2.0.0.weight : Float(2048, 1, 3, 3, strides=[9, 9, 3, 1], requires_grad=1, device=cuda:0),\n",
      "      %decoder.aspp.0.convs.3.0.0.weight : Float(2048, 1, 3, 3, strides=[9, 9, 3, 1], requires_grad=1, device=cuda:0),\n",
      "      %decoder.aspp.1.0.weight : Float(256, 1, 3, 3, strides=[9, 9, 3, 1], requires_grad=1, device=cuda:0),\n",
      "      %decoder.block2.0.0.weight : Float(304, 1, 3, 3, strides=[9, 9, 3, 1], requires_grad=1, device=cuda:0),\n",
      "      %segmentation_head.0.weight : Float(1, 256, 1, 1, strides=[256, 1, 1, 1], requires_grad=1, device=cuda:0),\n",
      "      %segmentation_head.0.bias : Float(1, strides=[1], requires_grad=1, device=cuda:0),\n",
      "      %onnx::Conv_617 : Float(64, 3, 7, 7, strides=[147, 49, 7, 1], requires_grad=0, device=cuda:0),\n",
      "      %onnx::Conv_618 : Float(64, strides=[1], requires_grad=0, device=cuda:0),\n",
      "      %onnx::Conv_620 : Float(64, 64, 1, 1, strides=[64, 1, 1, 1], requires_grad=0, device=cuda:0),\n",
      "      %onnx::Conv_621 : Float(64, strides=[1], requires_grad=0, device=cuda:0),\n",
      "      %onnx::Conv_623 : Float(64, 64, 3, 3, strides=[576, 9, 3, 1], requires_grad=0, device=cuda:0),\n",
      "      %onnx::Conv_624 : Float(64, strides=[1], requires_grad=0, device=cuda:0),\n",
      "      %onnx::Conv_626 : Float(256, 64, 1, 1, strides=[64, 1, 1, 1], requires_grad=0, device=cuda:0),\n",
      "      %onnx::Conv_627 : Float(256, strides=[1], requires_grad=0, device=cuda:0),\n",
      "      %onnx::Conv_629 : Float(256, 64, 1, 1, strides=[64, 1, 1, 1], requires_grad=0, device=cuda:0),\n",
      "      %onnx::Conv_630 : Float(256, strides=[1], requires_grad=0, device=cuda:0),\n",
      "      %onnx::Conv_632 : Float(64, 256, 1, 1, strides=[256, 1, 1, 1], requires_grad=0, device=cuda:0),\n",
      "      %onnx::Conv_633 : Float(64, strides=[1], requires_grad=0, device=cuda:0),\n",
      "      %onnx::Conv_635 : Float(64, 64, 3, 3, strides=[576, 9, 3, 1], requires_grad=0, device=cuda:0),\n",
      "      %onnx::Conv_636 : Float(64, strides=[1], requires_grad=0, device=cuda:0),\n",
      "      %onnx::Conv_638 : Float(256, 64, 1, 1, strides=[64, 1, 1, 1], requires_grad=0, device=cuda:0),\n",
      "      %onnx::Conv_639 : Float(256, strides=[1], requires_grad=0, device=cuda:0),\n",
      "      %onnx::Conv_641 : Float(64, 256, 1, 1, strides=[256, 1, 1, 1], requires_grad=0, device=cuda:0),\n",
      "      %onnx::Conv_642 : Float(64, strides=[1], requires_grad=0, device=cuda:0),\n",
      "      %onnx::Conv_644 : Float(64, 64, 3, 3, strides=[576, 9, 3, 1], requires_grad=0, device=cuda:0),\n",
      "      %onnx::Conv_645 : Float(64, strides=[1], requires_grad=0, device=cuda:0),\n",
      "      %onnx::Conv_647 : Float(256, 64, 1, 1, strides=[64, 1, 1, 1], requires_grad=0, device=cuda:0),\n",
      "      %onnx::Conv_648 : Float(256, strides=[1], requires_grad=0, device=cuda:0),\n",
      "      %onnx::Conv_650 : Float(128, 256, 1, 1, strides=[256, 1, 1, 1], requires_grad=0, device=cuda:0),\n",
      "      %onnx::Conv_651 : Float(128, strides=[1], requires_grad=0, device=cuda:0),\n",
      "      %onnx::Conv_653 : Float(128, 128, 3, 3, strides=[1152, 9, 3, 1], requires_grad=0, device=cuda:0),\n",
      "      %onnx::Conv_654 : Float(128, strides=[1], requires_grad=0, device=cuda:0),\n",
      "      %onnx::Conv_656 : Float(512, 128, 1, 1, strides=[128, 1, 1, 1], requires_grad=0, device=cuda:0),\n",
      "      %onnx::Conv_657 : Float(512, strides=[1], requires_grad=0, device=cuda:0),\n",
      "      %onnx::Conv_659 : Float(512, 256, 1, 1, strides=[256, 1, 1, 1], requires_grad=0, device=cuda:0),\n",
      "      %onnx::Conv_660 : Float(512, strides=[1], requires_grad=0, device=cuda:0),\n",
      "      %onnx::Conv_662 : Float(128, 512, 1, 1, strides=[512, 1, 1, 1], requires_grad=0, device=cuda:0),\n",
      "      %onnx::Conv_663 : Float(128, strides=[1], requires_grad=0, device=cuda:0),\n",
      "      %onnx::Conv_665 : Float(128, 128, 3, 3, strides=[1152, 9, 3, 1], requires_grad=0, device=cuda:0),\n",
      "      %onnx::Conv_666 : Float(128, strides=[1], requires_grad=0, device=cuda:0),\n",
      "      %onnx::Conv_668 : Float(512, 128, 1, 1, strides=[128, 1, 1, 1], requires_grad=0, device=cuda:0),\n",
      "      %onnx::Conv_669 : Float(512, strides=[1], requires_grad=0, device=cuda:0),\n",
      "      %onnx::Conv_671 : Float(128, 512, 1, 1, strides=[512, 1, 1, 1], requires_grad=0, device=cuda:0),\n",
      "      %onnx::Conv_672 : Float(128, strides=[1], requires_grad=0, device=cuda:0),\n",
      "      %onnx::Conv_674 : Float(128, 128, 3, 3, strides=[1152, 9, 3, 1], requires_grad=0, device=cuda:0),\n",
      "      %onnx::Conv_675 : Float(128, strides=[1], requires_grad=0, device=cuda:0),\n",
      "      %onnx::Conv_677 : Float(512, 128, 1, 1, strides=[128, 1, 1, 1], requires_grad=0, device=cuda:0),\n",
      "      %onnx::Conv_678 : Float(512, strides=[1], requires_grad=0, device=cuda:0),\n",
      "      %onnx::Conv_680 : Float(128, 512, 1, 1, strides=[512, 1, 1, 1], requires_grad=0, device=cuda:0),\n",
      "      %onnx::Conv_681 : Float(128, strides=[1], requires_grad=0, device=cuda:0),\n",
      "      %onnx::Conv_683 : Float(128, 128, 3, 3, strides=[1152, 9, 3, 1], requires_grad=0, device=cuda:0),\n",
      "      %onnx::Conv_684 : Float(128, strides=[1], requires_grad=0, device=cuda:0),\n",
      "      %onnx::Conv_686 : Float(512, 128, 1, 1, strides=[128, 1, 1, 1], requires_grad=0, device=cuda:0),\n",
      "      %onnx::Conv_687 : Float(512, strides=[1], requires_grad=0, device=cuda:0),\n",
      "      %onnx::Conv_689 : Float(256, 512, 1, 1, strides=[512, 1, 1, 1], requires_grad=0, device=cuda:0),\n",
      "      %onnx::Conv_690 : Float(256, strides=[1], requires_grad=0, device=cuda:0),\n",
      "      %onnx::Conv_692 : Float(256, 256, 3, 3, strides=[2304, 9, 3, 1], requires_grad=0, device=cuda:0),\n",
      "      %onnx::Conv_693 : Float(256, strides=[1], requires_grad=0, device=cuda:0),\n",
      "      %onnx::Conv_695 : Float(1024, 256, 1, 1, strides=[256, 1, 1, 1], requires_grad=0, device=cuda:0),\n",
      "      %onnx::Conv_696 : Float(1024, strides=[1], requires_grad=0, device=cuda:0),\n",
      "      %onnx::Conv_698 : Float(1024, 512, 1, 1, strides=[512, 1, 1, 1], requires_grad=0, device=cuda:0),\n",
      "      %onnx::Conv_699 : Float(1024, strides=[1], requires_grad=0, device=cuda:0),\n",
      "      %onnx::Conv_701 : Float(256, 1024, 1, 1, strides=[1024, 1, 1, 1], requires_grad=0, device=cuda:0),\n",
      "      %onnx::Conv_702 : Float(256, strides=[1], requires_grad=0, device=cuda:0),\n",
      "      %onnx::Conv_704 : Float(256, 256, 3, 3, strides=[2304, 9, 3, 1], requires_grad=0, device=cuda:0),\n",
      "      %onnx::Conv_705 : Float(256, strides=[1], requires_grad=0, device=cuda:0),\n",
      "      %onnx::Conv_707 : Float(1024, 256, 1, 1, strides=[256, 1, 1, 1], requires_grad=0, device=cuda:0),\n",
      "      %onnx::Conv_708 : Float(1024, strides=[1], requires_grad=0, device=cuda:0),\n",
      "      %onnx::Conv_710 : Float(256, 1024, 1, 1, strides=[1024, 1, 1, 1], requires_grad=0, device=cuda:0),\n",
      "      %onnx::Conv_711 : Float(256, strides=[1], requires_grad=0, device=cuda:0),\n",
      "      %onnx::Conv_713 : Float(256, 256, 3, 3, strides=[2304, 9, 3, 1], requires_grad=0, device=cuda:0),\n",
      "      %onnx::Conv_714 : Float(256, strides=[1], requires_grad=0, device=cuda:0),\n",
      "      %onnx::Conv_716 : Float(1024, 256, 1, 1, strides=[256, 1, 1, 1], requires_grad=0, device=cuda:0),\n",
      "      %onnx::Conv_717 : Float(1024, strides=[1], requires_grad=0, device=cuda:0),\n",
      "      %onnx::Conv_719 : Float(256, 1024, 1, 1, strides=[1024, 1, 1, 1], requires_grad=0, device=cuda:0),\n",
      "      %onnx::Conv_720 : Float(256, strides=[1], requires_grad=0, device=cuda:0),\n",
      "      %onnx::Conv_722 : Float(256, 256, 3, 3, strides=[2304, 9, 3, 1], requires_grad=0, device=cuda:0),\n",
      "      %onnx::Conv_723 : Float(256, strides=[1], requires_grad=0, device=cuda:0),\n",
      "      %onnx::Conv_725 : Float(1024, 256, 1, 1, strides=[256, 1, 1, 1], requires_grad=0, device=cuda:0),\n",
      "      %onnx::Conv_726 : Float(1024, strides=[1], requires_grad=0, device=cuda:0),\n",
      "      %onnx::Conv_728 : Float(256, 1024, 1, 1, strides=[1024, 1, 1, 1], requires_grad=0, device=cuda:0),\n",
      "      %onnx::Conv_729 : Float(256, strides=[1], requires_grad=0, device=cuda:0),\n",
      "      %onnx::Conv_731 : Float(256, 256, 3, 3, strides=[2304, 9, 3, 1], requires_grad=0, device=cuda:0),\n",
      "      %onnx::Conv_732 : Float(256, strides=[1], requires_grad=0, device=cuda:0),\n",
      "      %onnx::Conv_734 : Float(1024, 256, 1, 1, strides=[256, 1, 1, 1], requires_grad=0, device=cuda:0),\n",
      "      %onnx::Conv_735 : Float(1024, strides=[1], requires_grad=0, device=cuda:0),\n",
      "      %onnx::Conv_737 : Float(256, 1024, 1, 1, strides=[1024, 1, 1, 1], requires_grad=0, device=cuda:0),\n",
      "      %onnx::Conv_738 : Float(256, strides=[1], requires_grad=0, device=cuda:0),\n",
      "      %onnx::Conv_740 : Float(256, 256, 3, 3, strides=[2304, 9, 3, 1], requires_grad=0, device=cuda:0),\n",
      "      %onnx::Conv_741 : Float(256, strides=[1], requires_grad=0, device=cuda:0),\n",
      "      %onnx::Conv_743 : Float(1024, 256, 1, 1, strides=[256, 1, 1, 1], requires_grad=0, device=cuda:0),\n",
      "      %onnx::Conv_744 : Float(1024, strides=[1], requires_grad=0, device=cuda:0),\n",
      "      %onnx::Conv_746 : Float(512, 1024, 1, 1, strides=[1024, 1, 1, 1], requires_grad=0, device=cuda:0),\n",
      "      %onnx::Conv_747 : Float(512, strides=[1], requires_grad=0, device=cuda:0),\n",
      "      %onnx::Conv_749 : Float(512, 512, 3, 3, strides=[4608, 9, 3, 1], requires_grad=0, device=cuda:0),\n",
      "      %onnx::Conv_750 : Float(512, strides=[1], requires_grad=0, device=cuda:0),\n",
      "      %onnx::Conv_752 : Float(2048, 512, 1, 1, strides=[512, 1, 1, 1], requires_grad=0, device=cuda:0),\n",
      "      %onnx::Conv_753 : Float(2048, strides=[1], requires_grad=0, device=cuda:0),\n",
      "      %onnx::Conv_755 : Float(2048, 1024, 1, 1, strides=[1024, 1, 1, 1], requires_grad=0, device=cuda:0),\n",
      "      %onnx::Conv_756 : Float(2048, strides=[1], requires_grad=0, device=cuda:0),\n",
      "      %onnx::Conv_758 : Float(512, 2048, 1, 1, strides=[2048, 1, 1, 1], requires_grad=0, device=cuda:0),\n",
      "      %onnx::Conv_759 : Float(512, strides=[1], requires_grad=0, device=cuda:0),\n",
      "      %onnx::Conv_761 : Float(512, 512, 3, 3, strides=[4608, 9, 3, 1], requires_grad=0, device=cuda:0),\n",
      "      %onnx::Conv_762 : Float(512, strides=[1], requires_grad=0, device=cuda:0),\n",
      "      %onnx::Conv_764 : Float(2048, 512, 1, 1, strides=[512, 1, 1, 1], requires_grad=0, device=cuda:0),\n",
      "      %onnx::Conv_765 : Float(2048, strides=[1], requires_grad=0, device=cuda:0),\n",
      "      %onnx::Conv_767 : Float(512, 2048, 1, 1, strides=[2048, 1, 1, 1], requires_grad=0, device=cuda:0),\n",
      "      %onnx::Conv_768 : Float(512, strides=[1], requires_grad=0, device=cuda:0),\n",
      "      %onnx::Conv_770 : Float(512, 512, 3, 3, strides=[4608, 9, 3, 1], requires_grad=0, device=cuda:0),\n",
      "      %onnx::Conv_771 : Float(512, strides=[1], requires_grad=0, device=cuda:0),\n",
      "      %onnx::Conv_773 : Float(2048, 512, 1, 1, strides=[512, 1, 1, 1], requires_grad=0, device=cuda:0),\n",
      "      %onnx::Conv_774 : Float(2048, strides=[1], requires_grad=0, device=cuda:0),\n",
      "      %onnx::Conv_776 : Float(256, 2048, 1, 1, strides=[2048, 1, 1, 1], requires_grad=0, device=cuda:0),\n",
      "      %onnx::Conv_777 : Float(256, strides=[1], requires_grad=0, device=cuda:0),\n",
      "      %onnx::Conv_779 : Float(256, 2048, 1, 1, strides=[2048, 1, 1, 1], requires_grad=0, device=cuda:0),\n",
      "      %onnx::Conv_780 : Float(256, strides=[1], requires_grad=0, device=cuda:0),\n",
      "      %onnx::Conv_782 : Float(256, 2048, 1, 1, strides=[2048, 1, 1, 1], requires_grad=0, device=cuda:0),\n",
      "      %onnx::Conv_783 : Float(256, strides=[1], requires_grad=0, device=cuda:0),\n",
      "      %onnx::Conv_785 : Float(256, 2048, 1, 1, strides=[2048, 1, 1, 1], requires_grad=0, device=cuda:0),\n",
      "      %onnx::Conv_786 : Float(256, strides=[1], requires_grad=0, device=cuda:0),\n",
      "      %onnx::Conv_788 : Float(256, 2048, 1, 1, strides=[2048, 1, 1, 1], requires_grad=0, device=cuda:0),\n",
      "      %onnx::Conv_789 : Float(256, strides=[1], requires_grad=0, device=cuda:0),\n",
      "      %onnx::Conv_791 : Float(256, 1280, 1, 1, strides=[1280, 1, 1, 1], requires_grad=0, device=cuda:0),\n",
      "      %onnx::Conv_792 : Float(256, strides=[1], requires_grad=0, device=cuda:0),\n",
      "      %onnx::Conv_794 : Float(256, 256, 1, 1, strides=[256, 1, 1, 1], requires_grad=0, device=cuda:0),\n",
      "      %onnx::Conv_795 : Float(256, strides=[1], requires_grad=0, device=cuda:0),\n",
      "      %onnx::Conv_797 : Float(48, 256, 1, 1, strides=[256, 1, 1, 1], requires_grad=0, device=cuda:0),\n",
      "      %onnx::Conv_798 : Float(48, strides=[1], requires_grad=0, device=cuda:0),\n",
      "      %onnx::Conv_800 : Float(256, 304, 1, 1, strides=[304, 1, 1, 1], requires_grad=0, device=cuda:0),\n",
      "      %onnx::Conv_801 : Float(256, strides=[1], requires_grad=0, device=cuda:0),\n",
      "      %onnx::Concat_805 : Long(2, strides=[1], requires_grad=0, device=cpu),\n",
      "      %onnx::Resize_806 : Float(4, strides=[1], requires_grad=0, device=cpu)):\n",
      "  %onnx::Resize_807 : Float(4, strides=[1], requires_grad=0, device=cpu) = onnx::Identity[onnx_name=\"Identity_0\"](%onnx::Resize_806)\n",
      "  %input.4 : Float(1, 64, 400, 800, strides=[20480000, 320000, 800, 1], requires_grad=1, device=cuda:0) = onnx::Conv[dilations=[1, 1], group=1, kernel_shape=[7, 7], pads=[3, 3, 3, 3], strides=[2, 2], onnx_name=\"Conv_1\"](%input.1, %onnx::Conv_617, %onnx::Conv_618) # /home/shung/miniconda3/envs/STAS/lib/python3.8/site-packages/torch/nn/modules/conv.py:453:0\n",
      "  %onnx::MaxPool_382 : Float(1, 64, 400, 800, strides=[20480000, 320000, 800, 1], requires_grad=1, device=cuda:0) = onnx::Relu[onnx_name=\"Relu_2\"](%input.4) # /home/shung/miniconda3/envs/STAS/lib/python3.8/site-packages/torch/nn/functional.py:1455:0\n",
      "  %input.8 : Float(1, 64, 200, 400, strides=[5120000, 80000, 400, 1], requires_grad=1, device=cuda:0) = onnx::MaxPool[ceil_mode=0, kernel_shape=[3, 3], pads=[1, 1, 1, 1], strides=[2, 2], onnx_name=\"MaxPool_3\"](%onnx::MaxPool_382) # /home/shung/miniconda3/envs/STAS/lib/python3.8/site-packages/torch/nn/functional.py:782:0\n",
      "  %input.16 : Float(1, 64, 200, 400, strides=[5120000, 80000, 400, 1], requires_grad=1, device=cuda:0) = onnx::Conv[dilations=[1, 1], group=1, kernel_shape=[1, 1], pads=[0, 0, 0, 0], strides=[1, 1], onnx_name=\"Conv_4\"](%input.8, %onnx::Conv_620, %onnx::Conv_621) # /home/shung/miniconda3/envs/STAS/lib/python3.8/site-packages/torch/nn/modules/conv.py:453:0\n",
      "  %onnx::Conv_386 : Float(1, 64, 200, 400, strides=[5120000, 80000, 400, 1], requires_grad=1, device=cuda:0) = onnx::Relu[onnx_name=\"Relu_5\"](%input.16) # /home/shung/miniconda3/envs/STAS/lib/python3.8/site-packages/torch/nn/functional.py:1455:0\n",
      "  %input.24 : Float(1, 64, 200, 400, strides=[5120000, 80000, 400, 1], requires_grad=1, device=cuda:0) = onnx::Conv[dilations=[1, 1], group=1, kernel_shape=[3, 3], pads=[1, 1, 1, 1], strides=[1, 1], onnx_name=\"Conv_6\"](%onnx::Conv_386, %onnx::Conv_623, %onnx::Conv_624) # /home/shung/miniconda3/envs/STAS/lib/python3.8/site-packages/torch/nn/modules/conv.py:453:0\n",
      "  %onnx::Conv_389 : Float(1, 64, 200, 400, strides=[5120000, 80000, 400, 1], requires_grad=1, device=cuda:0) = onnx::Relu[onnx_name=\"Relu_7\"](%input.24) # /home/shung/miniconda3/envs/STAS/lib/python3.8/site-packages/torch/nn/functional.py:1455:0\n",
      "  %onnx::Add_625 : Float(1, 256, 200, 400, strides=[20480000, 80000, 400, 1], requires_grad=1, device=cuda:0) = onnx::Conv[dilations=[1, 1], group=1, kernel_shape=[1, 1], pads=[0, 0, 0, 0], strides=[1, 1], onnx_name=\"Conv_8\"](%onnx::Conv_389, %onnx::Conv_626, %onnx::Conv_627) # /home/shung/miniconda3/envs/STAS/lib/python3.8/site-packages/torch/nn/modules/conv.py:453:0\n",
      "  %onnx::Add_628 : Float(1, 256, 200, 400, strides=[20480000, 80000, 400, 1], requires_grad=1, device=cuda:0) = onnx::Conv[dilations=[1, 1], group=1, kernel_shape=[1, 1], pads=[0, 0, 0, 0], strides=[1, 1], onnx_name=\"Conv_9\"](%input.8, %onnx::Conv_629, %onnx::Conv_630) # /home/shung/miniconda3/envs/STAS/lib/python3.8/site-packages/torch/nn/modules/conv.py:453:0\n",
      "  %onnx::Relu_394 : Float(1, 256, 200, 400, strides=[20480000, 80000, 400, 1], requires_grad=1, device=cuda:0) = onnx::Add[onnx_name=\"Add_10\"](%onnx::Add_625, %onnx::Add_628) # /home/shung/miniconda3/envs/STAS/lib/python3.8/site-packages/torchvision/models/resnet.py:160:0\n",
      "  %input.36 : Float(1, 256, 200, 400, strides=[20480000, 80000, 400, 1], requires_grad=1, device=cuda:0) = onnx::Relu[onnx_name=\"Relu_11\"](%onnx::Relu_394) # /home/shung/miniconda3/envs/STAS/lib/python3.8/site-packages/torch/nn/functional.py:1455:0\n",
      "  %input.44 : Float(1, 64, 200, 400, strides=[5120000, 80000, 400, 1], requires_grad=1, device=cuda:0) = onnx::Conv[dilations=[1, 1], group=1, kernel_shape=[1, 1], pads=[0, 0, 0, 0], strides=[1, 1], onnx_name=\"Conv_12\"](%input.36, %onnx::Conv_632, %onnx::Conv_633) # /home/shung/miniconda3/envs/STAS/lib/python3.8/site-packages/torch/nn/modules/conv.py:453:0\n",
      "  %onnx::Conv_398 : Float(1, 64, 200, 400, strides=[5120000, 80000, 400, 1], requires_grad=1, device=cuda:0) = onnx::Relu[onnx_name=\"Relu_13\"](%input.44) # /home/shung/miniconda3/envs/STAS/lib/python3.8/site-packages/torch/nn/functional.py:1455:0\n",
      "  %input.52 : Float(1, 64, 200, 400, strides=[5120000, 80000, 400, 1], requires_grad=1, device=cuda:0) = onnx::Conv[dilations=[1, 1], group=1, kernel_shape=[3, 3], pads=[1, 1, 1, 1], strides=[1, 1], onnx_name=\"Conv_14\"](%onnx::Conv_398, %onnx::Conv_635, %onnx::Conv_636) # /home/shung/miniconda3/envs/STAS/lib/python3.8/site-packages/torch/nn/modules/conv.py:453:0\n",
      "  %onnx::Conv_401 : Float(1, 64, 200, 400, strides=[5120000, 80000, 400, 1], requires_grad=1, device=cuda:0) = onnx::Relu[onnx_name=\"Relu_15\"](%input.52) # /home/shung/miniconda3/envs/STAS/lib/python3.8/site-packages/torch/nn/functional.py:1455:0\n",
      "  %onnx::Add_637 : Float(1, 256, 200, 400, strides=[20480000, 80000, 400, 1], requires_grad=1, device=cuda:0) = onnx::Conv[dilations=[1, 1], group=1, kernel_shape=[1, 1], pads=[0, 0, 0, 0], strides=[1, 1], onnx_name=\"Conv_16\"](%onnx::Conv_401, %onnx::Conv_638, %onnx::Conv_639) # /home/shung/miniconda3/envs/STAS/lib/python3.8/site-packages/torch/nn/modules/conv.py:453:0\n",
      "  %onnx::Relu_404 : Float(1, 256, 200, 400, strides=[20480000, 80000, 400, 1], requires_grad=1, device=cuda:0) = onnx::Add[onnx_name=\"Add_17\"](%onnx::Add_637, %input.36) # /home/shung/miniconda3/envs/STAS/lib/python3.8/site-packages/torchvision/models/resnet.py:160:0\n",
      "  %input.60 : Float(1, 256, 200, 400, strides=[20480000, 80000, 400, 1], requires_grad=1, device=cuda:0) = onnx::Relu[onnx_name=\"Relu_18\"](%onnx::Relu_404) # /home/shung/miniconda3/envs/STAS/lib/python3.8/site-packages/torch/nn/functional.py:1455:0\n",
      "  %input.68 : Float(1, 64, 200, 400, strides=[5120000, 80000, 400, 1], requires_grad=1, device=cuda:0) = onnx::Conv[dilations=[1, 1], group=1, kernel_shape=[1, 1], pads=[0, 0, 0, 0], strides=[1, 1], onnx_name=\"Conv_19\"](%input.60, %onnx::Conv_641, %onnx::Conv_642) # /home/shung/miniconda3/envs/STAS/lib/python3.8/site-packages/torch/nn/modules/conv.py:453:0\n",
      "  %onnx::Conv_408 : Float(1, 64, 200, 400, strides=[5120000, 80000, 400, 1], requires_grad=1, device=cuda:0) = onnx::Relu[onnx_name=\"Relu_20\"](%input.68) # /home/shung/miniconda3/envs/STAS/lib/python3.8/site-packages/torch/nn/functional.py:1455:0\n",
      "  %input.76 : Float(1, 64, 200, 400, strides=[5120000, 80000, 400, 1], requires_grad=1, device=cuda:0) = onnx::Conv[dilations=[1, 1], group=1, kernel_shape=[3, 3], pads=[1, 1, 1, 1], strides=[1, 1], onnx_name=\"Conv_21\"](%onnx::Conv_408, %onnx::Conv_644, %onnx::Conv_645) # /home/shung/miniconda3/envs/STAS/lib/python3.8/site-packages/torch/nn/modules/conv.py:453:0\n",
      "  %onnx::Conv_411 : Float(1, 64, 200, 400, strides=[5120000, 80000, 400, 1], requires_grad=1, device=cuda:0) = onnx::Relu[onnx_name=\"Relu_22\"](%input.76) # /home/shung/miniconda3/envs/STAS/lib/python3.8/site-packages/torch/nn/functional.py:1455:0\n",
      "  %onnx::Add_646 : Float(1, 256, 200, 400, strides=[20480000, 80000, 400, 1], requires_grad=1, device=cuda:0) = onnx::Conv[dilations=[1, 1], group=1, kernel_shape=[1, 1], pads=[0, 0, 0, 0], strides=[1, 1], onnx_name=\"Conv_23\"](%onnx::Conv_411, %onnx::Conv_647, %onnx::Conv_648) # /home/shung/miniconda3/envs/STAS/lib/python3.8/site-packages/torch/nn/modules/conv.py:453:0\n",
      "  %onnx::Relu_414 : Float(1, 256, 200, 400, strides=[20480000, 80000, 400, 1], requires_grad=1, device=cuda:0) = onnx::Add[onnx_name=\"Add_24\"](%onnx::Add_646, %input.60) # /home/shung/miniconda3/envs/STAS/lib/python3.8/site-packages/torchvision/models/resnet.py:160:0\n",
      "  %input.84 : Float(1, 256, 200, 400, strides=[20480000, 80000, 400, 1], requires_grad=1, device=cuda:0) = onnx::Relu[onnx_name=\"Relu_25\"](%onnx::Relu_414) # /home/shung/miniconda3/envs/STAS/lib/python3.8/site-packages/torch/nn/functional.py:1455:0\n",
      "  %input.92 : Float(1, 128, 200, 400, strides=[10240000, 80000, 400, 1], requires_grad=1, device=cuda:0) = onnx::Conv[dilations=[1, 1], group=1, kernel_shape=[1, 1], pads=[0, 0, 0, 0], strides=[1, 1], onnx_name=\"Conv_26\"](%input.84, %onnx::Conv_650, %onnx::Conv_651) # /home/shung/miniconda3/envs/STAS/lib/python3.8/site-packages/torch/nn/modules/conv.py:453:0\n",
      "  %onnx::Conv_418 : Float(1, 128, 200, 400, strides=[10240000, 80000, 400, 1], requires_grad=1, device=cuda:0) = onnx::Relu[onnx_name=\"Relu_27\"](%input.92) # /home/shung/miniconda3/envs/STAS/lib/python3.8/site-packages/torch/nn/functional.py:1455:0\n",
      "  %input.100 : Float(1, 128, 100, 200, strides=[2560000, 20000, 200, 1], requires_grad=1, device=cuda:0) = onnx::Conv[dilations=[1, 1], group=1, kernel_shape=[3, 3], pads=[1, 1, 1, 1], strides=[2, 2], onnx_name=\"Conv_28\"](%onnx::Conv_418, %onnx::Conv_653, %onnx::Conv_654) # /home/shung/miniconda3/envs/STAS/lib/python3.8/site-packages/torch/nn/modules/conv.py:453:0\n",
      "  %onnx::Conv_421 : Float(1, 128, 100, 200, strides=[2560000, 20000, 200, 1], requires_grad=1, device=cuda:0) = onnx::Relu[onnx_name=\"Relu_29\"](%input.100) # /home/shung/miniconda3/envs/STAS/lib/python3.8/site-packages/torch/nn/functional.py:1455:0\n",
      "  %onnx::Add_655 : Float(1, 512, 100, 200, strides=[10240000, 20000, 200, 1], requires_grad=1, device=cuda:0) = onnx::Conv[dilations=[1, 1], group=1, kernel_shape=[1, 1], pads=[0, 0, 0, 0], strides=[1, 1], onnx_name=\"Conv_30\"](%onnx::Conv_421, %onnx::Conv_656, %onnx::Conv_657) # /home/shung/miniconda3/envs/STAS/lib/python3.8/site-packages/torch/nn/modules/conv.py:453:0\n",
      "  %onnx::Add_658 : Float(1, 512, 100, 200, strides=[10240000, 20000, 200, 1], requires_grad=1, device=cuda:0) = onnx::Conv[dilations=[1, 1], group=1, kernel_shape=[1, 1], pads=[0, 0, 0, 0], strides=[2, 2], onnx_name=\"Conv_31\"](%input.84, %onnx::Conv_659, %onnx::Conv_660) # /home/shung/miniconda3/envs/STAS/lib/python3.8/site-packages/torch/nn/modules/conv.py:453:0\n",
      "  %onnx::Relu_426 : Float(1, 512, 100, 200, strides=[10240000, 20000, 200, 1], requires_grad=1, device=cuda:0) = onnx::Add[onnx_name=\"Add_32\"](%onnx::Add_655, %onnx::Add_658) # /home/shung/miniconda3/envs/STAS/lib/python3.8/site-packages/torchvision/models/resnet.py:160:0\n",
      "  %input.112 : Float(1, 512, 100, 200, strides=[10240000, 20000, 200, 1], requires_grad=1, device=cuda:0) = onnx::Relu[onnx_name=\"Relu_33\"](%onnx::Relu_426) # /home/shung/miniconda3/envs/STAS/lib/python3.8/site-packages/torch/nn/functional.py:1455:0\n",
      "  %input.120 : Float(1, 128, 100, 200, strides=[2560000, 20000, 200, 1], requires_grad=1, device=cuda:0) = onnx::Conv[dilations=[1, 1], group=1, kernel_shape=[1, 1], pads=[0, 0, 0, 0], strides=[1, 1], onnx_name=\"Conv_34\"](%input.112, %onnx::Conv_662, %onnx::Conv_663) # /home/shung/miniconda3/envs/STAS/lib/python3.8/site-packages/torch/nn/modules/conv.py:453:0\n",
      "  %onnx::Conv_430 : Float(1, 128, 100, 200, strides=[2560000, 20000, 200, 1], requires_grad=1, device=cuda:0) = onnx::Relu[onnx_name=\"Relu_35\"](%input.120) # /home/shung/miniconda3/envs/STAS/lib/python3.8/site-packages/torch/nn/functional.py:1455:0\n",
      "  %input.128 : Float(1, 128, 100, 200, strides=[2560000, 20000, 200, 1], requires_grad=1, device=cuda:0) = onnx::Conv[dilations=[1, 1], group=1, kernel_shape=[3, 3], pads=[1, 1, 1, 1], strides=[1, 1], onnx_name=\"Conv_36\"](%onnx::Conv_430, %onnx::Conv_665, %onnx::Conv_666) # /home/shung/miniconda3/envs/STAS/lib/python3.8/site-packages/torch/nn/modules/conv.py:453:0\n",
      "  %onnx::Conv_433 : Float(1, 128, 100, 200, strides=[2560000, 20000, 200, 1], requires_grad=1, device=cuda:0) = onnx::Relu[onnx_name=\"Relu_37\"](%input.128) # /home/shung/miniconda3/envs/STAS/lib/python3.8/site-packages/torch/nn/functional.py:1455:0\n",
      "  %onnx::Add_667 : Float(1, 512, 100, 200, strides=[10240000, 20000, 200, 1], requires_grad=1, device=cuda:0) = onnx::Conv[dilations=[1, 1], group=1, kernel_shape=[1, 1], pads=[0, 0, 0, 0], strides=[1, 1], onnx_name=\"Conv_38\"](%onnx::Conv_433, %onnx::Conv_668, %onnx::Conv_669) # /home/shung/miniconda3/envs/STAS/lib/python3.8/site-packages/torch/nn/modules/conv.py:453:0\n",
      "  %onnx::Relu_436 : Float(1, 512, 100, 200, strides=[10240000, 20000, 200, 1], requires_grad=1, device=cuda:0) = onnx::Add[onnx_name=\"Add_39\"](%onnx::Add_667, %input.112) # /home/shung/miniconda3/envs/STAS/lib/python3.8/site-packages/torchvision/models/resnet.py:160:0\n",
      "  %input.136 : Float(1, 512, 100, 200, strides=[10240000, 20000, 200, 1], requires_grad=1, device=cuda:0) = onnx::Relu[onnx_name=\"Relu_40\"](%onnx::Relu_436) # /home/shung/miniconda3/envs/STAS/lib/python3.8/site-packages/torch/nn/functional.py:1455:0\n",
      "  %input.144 : Float(1, 128, 100, 200, strides=[2560000, 20000, 200, 1], requires_grad=1, device=cuda:0) = onnx::Conv[dilations=[1, 1], group=1, kernel_shape=[1, 1], pads=[0, 0, 0, 0], strides=[1, 1], onnx_name=\"Conv_41\"](%input.136, %onnx::Conv_671, %onnx::Conv_672) # /home/shung/miniconda3/envs/STAS/lib/python3.8/site-packages/torch/nn/modules/conv.py:453:0\n",
      "  %onnx::Conv_440 : Float(1, 128, 100, 200, strides=[2560000, 20000, 200, 1], requires_grad=1, device=cuda:0) = onnx::Relu[onnx_name=\"Relu_42\"](%input.144) # /home/shung/miniconda3/envs/STAS/lib/python3.8/site-packages/torch/nn/functional.py:1455:0\n",
      "  %input.152 : Float(1, 128, 100, 200, strides=[2560000, 20000, 200, 1], requires_grad=1, device=cuda:0) = onnx::Conv[dilations=[1, 1], group=1, kernel_shape=[3, 3], pads=[1, 1, 1, 1], strides=[1, 1], onnx_name=\"Conv_43\"](%onnx::Conv_440, %onnx::Conv_674, %onnx::Conv_675) # /home/shung/miniconda3/envs/STAS/lib/python3.8/site-packages/torch/nn/modules/conv.py:453:0\n",
      "  %onnx::Conv_443 : Float(1, 128, 100, 200, strides=[2560000, 20000, 200, 1], requires_grad=1, device=cuda:0) = onnx::Relu[onnx_name=\"Relu_44\"](%input.152) # /home/shung/miniconda3/envs/STAS/lib/python3.8/site-packages/torch/nn/functional.py:1455:0\n",
      "  %onnx::Add_676 : Float(1, 512, 100, 200, strides=[10240000, 20000, 200, 1], requires_grad=1, device=cuda:0) = onnx::Conv[dilations=[1, 1], group=1, kernel_shape=[1, 1], pads=[0, 0, 0, 0], strides=[1, 1], onnx_name=\"Conv_45\"](%onnx::Conv_443, %onnx::Conv_677, %onnx::Conv_678) # /home/shung/miniconda3/envs/STAS/lib/python3.8/site-packages/torch/nn/modules/conv.py:453:0\n",
      "  %onnx::Relu_446 : Float(1, 512, 100, 200, strides=[10240000, 20000, 200, 1], requires_grad=1, device=cuda:0) = onnx::Add[onnx_name=\"Add_46\"](%onnx::Add_676, %input.136) # /home/shung/miniconda3/envs/STAS/lib/python3.8/site-packages/torchvision/models/resnet.py:160:0\n",
      "  %input.160 : Float(1, 512, 100, 200, strides=[10240000, 20000, 200, 1], requires_grad=1, device=cuda:0) = onnx::Relu[onnx_name=\"Relu_47\"](%onnx::Relu_446) # /home/shung/miniconda3/envs/STAS/lib/python3.8/site-packages/torch/nn/functional.py:1455:0\n",
      "  %input.168 : Float(1, 128, 100, 200, strides=[2560000, 20000, 200, 1], requires_grad=1, device=cuda:0) = onnx::Conv[dilations=[1, 1], group=1, kernel_shape=[1, 1], pads=[0, 0, 0, 0], strides=[1, 1], onnx_name=\"Conv_48\"](%input.160, %onnx::Conv_680, %onnx::Conv_681) # /home/shung/miniconda3/envs/STAS/lib/python3.8/site-packages/torch/nn/modules/conv.py:453:0\n",
      "  %onnx::Conv_450 : Float(1, 128, 100, 200, strides=[2560000, 20000, 200, 1], requires_grad=1, device=cuda:0) = onnx::Relu[onnx_name=\"Relu_49\"](%input.168) # /home/shung/miniconda3/envs/STAS/lib/python3.8/site-packages/torch/nn/functional.py:1455:0\n",
      "  %input.176 : Float(1, 128, 100, 200, strides=[2560000, 20000, 200, 1], requires_grad=1, device=cuda:0) = onnx::Conv[dilations=[1, 1], group=1, kernel_shape=[3, 3], pads=[1, 1, 1, 1], strides=[1, 1], onnx_name=\"Conv_50\"](%onnx::Conv_450, %onnx::Conv_683, %onnx::Conv_684) # /home/shung/miniconda3/envs/STAS/lib/python3.8/site-packages/torch/nn/modules/conv.py:453:0\n",
      "  %onnx::Conv_453 : Float(1, 128, 100, 200, strides=[2560000, 20000, 200, 1], requires_grad=1, device=cuda:0) = onnx::Relu[onnx_name=\"Relu_51\"](%input.176) # /home/shung/miniconda3/envs/STAS/lib/python3.8/site-packages/torch/nn/functional.py:1455:0\n",
      "  %onnx::Add_685 : Float(1, 512, 100, 200, strides=[10240000, 20000, 200, 1], requires_grad=1, device=cuda:0) = onnx::Conv[dilations=[1, 1], group=1, kernel_shape=[1, 1], pads=[0, 0, 0, 0], strides=[1, 1], onnx_name=\"Conv_52\"](%onnx::Conv_453, %onnx::Conv_686, %onnx::Conv_687) # /home/shung/miniconda3/envs/STAS/lib/python3.8/site-packages/torch/nn/modules/conv.py:453:0\n",
      "  %onnx::Relu_456 : Float(1, 512, 100, 200, strides=[10240000, 20000, 200, 1], requires_grad=1, device=cuda:0) = onnx::Add[onnx_name=\"Add_53\"](%onnx::Add_685, %input.160) # /home/shung/miniconda3/envs/STAS/lib/python3.8/site-packages/torchvision/models/resnet.py:160:0\n",
      "  %input.184 : Float(1, 512, 100, 200, strides=[10240000, 20000, 200, 1], requires_grad=1, device=cuda:0) = onnx::Relu[onnx_name=\"Relu_54\"](%onnx::Relu_456) # /home/shung/miniconda3/envs/STAS/lib/python3.8/site-packages/torch/nn/functional.py:1455:0\n",
      "  %input.192 : Float(1, 256, 100, 200, strides=[5120000, 20000, 200, 1], requires_grad=1, device=cuda:0) = onnx::Conv[dilations=[1, 1], group=1, kernel_shape=[1, 1], pads=[0, 0, 0, 0], strides=[1, 1], onnx_name=\"Conv_55\"](%input.184, %onnx::Conv_689, %onnx::Conv_690) # /home/shung/miniconda3/envs/STAS/lib/python3.8/site-packages/torch/nn/modules/conv.py:453:0\n",
      "  %onnx::Conv_460 : Float(1, 256, 100, 200, strides=[5120000, 20000, 200, 1], requires_grad=1, device=cuda:0) = onnx::Relu[onnx_name=\"Relu_56\"](%input.192) # /home/shung/miniconda3/envs/STAS/lib/python3.8/site-packages/torch/nn/functional.py:1455:0\n",
      "  %input.200 : Float(1, 256, 50, 100, strides=[1280000, 5000, 100, 1], requires_grad=1, device=cuda:0) = onnx::Conv[dilations=[1, 1], group=1, kernel_shape=[3, 3], pads=[1, 1, 1, 1], strides=[2, 2], onnx_name=\"Conv_57\"](%onnx::Conv_460, %onnx::Conv_692, %onnx::Conv_693) # /home/shung/miniconda3/envs/STAS/lib/python3.8/site-packages/torch/nn/modules/conv.py:453:0\n",
      "  %onnx::Conv_463 : Float(1, 256, 50, 100, strides=[1280000, 5000, 100, 1], requires_grad=1, device=cuda:0) = onnx::Relu[onnx_name=\"Relu_58\"](%input.200) # /home/shung/miniconda3/envs/STAS/lib/python3.8/site-packages/torch/nn/functional.py:1455:0\n",
      "  %onnx::Add_694 : Float(1, 1024, 50, 100, strides=[5120000, 5000, 100, 1], requires_grad=1, device=cuda:0) = onnx::Conv[dilations=[1, 1], group=1, kernel_shape=[1, 1], pads=[0, 0, 0, 0], strides=[1, 1], onnx_name=\"Conv_59\"](%onnx::Conv_463, %onnx::Conv_695, %onnx::Conv_696) # /home/shung/miniconda3/envs/STAS/lib/python3.8/site-packages/torch/nn/modules/conv.py:453:0\n",
      "  %onnx::Add_697 : Float(1, 1024, 50, 100, strides=[5120000, 5000, 100, 1], requires_grad=1, device=cuda:0) = onnx::Conv[dilations=[1, 1], group=1, kernel_shape=[1, 1], pads=[0, 0, 0, 0], strides=[2, 2], onnx_name=\"Conv_60\"](%input.184, %onnx::Conv_698, %onnx::Conv_699) # /home/shung/miniconda3/envs/STAS/lib/python3.8/site-packages/torch/nn/modules/conv.py:453:0\n",
      "  %onnx::Relu_468 : Float(1, 1024, 50, 100, strides=[5120000, 5000, 100, 1], requires_grad=1, device=cuda:0) = onnx::Add[onnx_name=\"Add_61\"](%onnx::Add_694, %onnx::Add_697) # /home/shung/miniconda3/envs/STAS/lib/python3.8/site-packages/torchvision/models/resnet.py:160:0\n",
      "  %input.212 : Float(1, 1024, 50, 100, strides=[5120000, 5000, 100, 1], requires_grad=1, device=cuda:0) = onnx::Relu[onnx_name=\"Relu_62\"](%onnx::Relu_468) # /home/shung/miniconda3/envs/STAS/lib/python3.8/site-packages/torch/nn/functional.py:1455:0\n",
      "  %input.220 : Float(1, 256, 50, 100, strides=[1280000, 5000, 100, 1], requires_grad=1, device=cuda:0) = onnx::Conv[dilations=[1, 1], group=1, kernel_shape=[1, 1], pads=[0, 0, 0, 0], strides=[1, 1], onnx_name=\"Conv_63\"](%input.212, %onnx::Conv_701, %onnx::Conv_702) # /home/shung/miniconda3/envs/STAS/lib/python3.8/site-packages/torch/nn/modules/conv.py:453:0\n",
      "  %onnx::Conv_472 : Float(1, 256, 50, 100, strides=[1280000, 5000, 100, 1], requires_grad=1, device=cuda:0) = onnx::Relu[onnx_name=\"Relu_64\"](%input.220) # /home/shung/miniconda3/envs/STAS/lib/python3.8/site-packages/torch/nn/functional.py:1455:0\n",
      "  %input.228 : Float(1, 256, 50, 100, strides=[1280000, 5000, 100, 1], requires_grad=1, device=cuda:0) = onnx::Conv[dilations=[1, 1], group=1, kernel_shape=[3, 3], pads=[1, 1, 1, 1], strides=[1, 1], onnx_name=\"Conv_65\"](%onnx::Conv_472, %onnx::Conv_704, %onnx::Conv_705) # /home/shung/miniconda3/envs/STAS/lib/python3.8/site-packages/torch/nn/modules/conv.py:453:0\n",
      "  %onnx::Conv_475 : Float(1, 256, 50, 100, strides=[1280000, 5000, 100, 1], requires_grad=1, device=cuda:0) = onnx::Relu[onnx_name=\"Relu_66\"](%input.228) # /home/shung/miniconda3/envs/STAS/lib/python3.8/site-packages/torch/nn/functional.py:1455:0\n",
      "  %onnx::Add_706 : Float(1, 1024, 50, 100, strides=[5120000, 5000, 100, 1], requires_grad=1, device=cuda:0) = onnx::Conv[dilations=[1, 1], group=1, kernel_shape=[1, 1], pads=[0, 0, 0, 0], strides=[1, 1], onnx_name=\"Conv_67\"](%onnx::Conv_475, %onnx::Conv_707, %onnx::Conv_708) # /home/shung/miniconda3/envs/STAS/lib/python3.8/site-packages/torch/nn/modules/conv.py:453:0\n",
      "  %onnx::Relu_478 : Float(1, 1024, 50, 100, strides=[5120000, 5000, 100, 1], requires_grad=1, device=cuda:0) = onnx::Add[onnx_name=\"Add_68\"](%onnx::Add_706, %input.212) # /home/shung/miniconda3/envs/STAS/lib/python3.8/site-packages/torchvision/models/resnet.py:160:0\n",
      "  %input.236 : Float(1, 1024, 50, 100, strides=[5120000, 5000, 100, 1], requires_grad=1, device=cuda:0) = onnx::Relu[onnx_name=\"Relu_69\"](%onnx::Relu_478) # /home/shung/miniconda3/envs/STAS/lib/python3.8/site-packages/torch/nn/functional.py:1455:0\n",
      "  %input.244 : Float(1, 256, 50, 100, strides=[1280000, 5000, 100, 1], requires_grad=1, device=cuda:0) = onnx::Conv[dilations=[1, 1], group=1, kernel_shape=[1, 1], pads=[0, 0, 0, 0], strides=[1, 1], onnx_name=\"Conv_70\"](%input.236, %onnx::Conv_710, %onnx::Conv_711) # /home/shung/miniconda3/envs/STAS/lib/python3.8/site-packages/torch/nn/modules/conv.py:453:0\n",
      "  %onnx::Conv_482 : Float(1, 256, 50, 100, strides=[1280000, 5000, 100, 1], requires_grad=1, device=cuda:0) = onnx::Relu[onnx_name=\"Relu_71\"](%input.244) # /home/shung/miniconda3/envs/STAS/lib/python3.8/site-packages/torch/nn/functional.py:1455:0\n",
      "  %input.252 : Float(1, 256, 50, 100, strides=[1280000, 5000, 100, 1], requires_grad=1, device=cuda:0) = onnx::Conv[dilations=[1, 1], group=1, kernel_shape=[3, 3], pads=[1, 1, 1, 1], strides=[1, 1], onnx_name=\"Conv_72\"](%onnx::Conv_482, %onnx::Conv_713, %onnx::Conv_714) # /home/shung/miniconda3/envs/STAS/lib/python3.8/site-packages/torch/nn/modules/conv.py:453:0\n",
      "  %onnx::Conv_485 : Float(1, 256, 50, 100, strides=[1280000, 5000, 100, 1], requires_grad=1, device=cuda:0) = onnx::Relu[onnx_name=\"Relu_73\"](%input.252) # /home/shung/miniconda3/envs/STAS/lib/python3.8/site-packages/torch/nn/functional.py:1455:0\n",
      "  %onnx::Add_715 : Float(1, 1024, 50, 100, strides=[5120000, 5000, 100, 1], requires_grad=1, device=cuda:0) = onnx::Conv[dilations=[1, 1], group=1, kernel_shape=[1, 1], pads=[0, 0, 0, 0], strides=[1, 1], onnx_name=\"Conv_74\"](%onnx::Conv_485, %onnx::Conv_716, %onnx::Conv_717) # /home/shung/miniconda3/envs/STAS/lib/python3.8/site-packages/torch/nn/modules/conv.py:453:0\n",
      "  %onnx::Relu_488 : Float(1, 1024, 50, 100, strides=[5120000, 5000, 100, 1], requires_grad=1, device=cuda:0) = onnx::Add[onnx_name=\"Add_75\"](%onnx::Add_715, %input.236) # /home/shung/miniconda3/envs/STAS/lib/python3.8/site-packages/torchvision/models/resnet.py:160:0\n",
      "  %input.260 : Float(1, 1024, 50, 100, strides=[5120000, 5000, 100, 1], requires_grad=1, device=cuda:0) = onnx::Relu[onnx_name=\"Relu_76\"](%onnx::Relu_488) # /home/shung/miniconda3/envs/STAS/lib/python3.8/site-packages/torch/nn/functional.py:1455:0\n",
      "  %input.268 : Float(1, 256, 50, 100, strides=[1280000, 5000, 100, 1], requires_grad=1, device=cuda:0) = onnx::Conv[dilations=[1, 1], group=1, kernel_shape=[1, 1], pads=[0, 0, 0, 0], strides=[1, 1], onnx_name=\"Conv_77\"](%input.260, %onnx::Conv_719, %onnx::Conv_720) # /home/shung/miniconda3/envs/STAS/lib/python3.8/site-packages/torch/nn/modules/conv.py:453:0\n",
      "  %onnx::Conv_492 : Float(1, 256, 50, 100, strides=[1280000, 5000, 100, 1], requires_grad=1, device=cuda:0) = onnx::Relu[onnx_name=\"Relu_78\"](%input.268) # /home/shung/miniconda3/envs/STAS/lib/python3.8/site-packages/torch/nn/functional.py:1455:0\n",
      "  %input.276 : Float(1, 256, 50, 100, strides=[1280000, 5000, 100, 1], requires_grad=1, device=cuda:0) = onnx::Conv[dilations=[1, 1], group=1, kernel_shape=[3, 3], pads=[1, 1, 1, 1], strides=[1, 1], onnx_name=\"Conv_79\"](%onnx::Conv_492, %onnx::Conv_722, %onnx::Conv_723) # /home/shung/miniconda3/envs/STAS/lib/python3.8/site-packages/torch/nn/modules/conv.py:453:0\n",
      "  %onnx::Conv_495 : Float(1, 256, 50, 100, strides=[1280000, 5000, 100, 1], requires_grad=1, device=cuda:0) = onnx::Relu[onnx_name=\"Relu_80\"](%input.276) # /home/shung/miniconda3/envs/STAS/lib/python3.8/site-packages/torch/nn/functional.py:1455:0\n",
      "  %onnx::Add_724 : Float(1, 1024, 50, 100, strides=[5120000, 5000, 100, 1], requires_grad=1, device=cuda:0) = onnx::Conv[dilations=[1, 1], group=1, kernel_shape=[1, 1], pads=[0, 0, 0, 0], strides=[1, 1], onnx_name=\"Conv_81\"](%onnx::Conv_495, %onnx::Conv_725, %onnx::Conv_726) # /home/shung/miniconda3/envs/STAS/lib/python3.8/site-packages/torch/nn/modules/conv.py:453:0\n",
      "  %onnx::Relu_498 : Float(1, 1024, 50, 100, strides=[5120000, 5000, 100, 1], requires_grad=1, device=cuda:0) = onnx::Add[onnx_name=\"Add_82\"](%onnx::Add_724, %input.260) # /home/shung/miniconda3/envs/STAS/lib/python3.8/site-packages/torchvision/models/resnet.py:160:0\n",
      "  %input.284 : Float(1, 1024, 50, 100, strides=[5120000, 5000, 100, 1], requires_grad=1, device=cuda:0) = onnx::Relu[onnx_name=\"Relu_83\"](%onnx::Relu_498) # /home/shung/miniconda3/envs/STAS/lib/python3.8/site-packages/torch/nn/functional.py:1455:0\n",
      "  %input.292 : Float(1, 256, 50, 100, strides=[1280000, 5000, 100, 1], requires_grad=1, device=cuda:0) = onnx::Conv[dilations=[1, 1], group=1, kernel_shape=[1, 1], pads=[0, 0, 0, 0], strides=[1, 1], onnx_name=\"Conv_84\"](%input.284, %onnx::Conv_728, %onnx::Conv_729) # /home/shung/miniconda3/envs/STAS/lib/python3.8/site-packages/torch/nn/modules/conv.py:453:0\n",
      "  %onnx::Conv_502 : Float(1, 256, 50, 100, strides=[1280000, 5000, 100, 1], requires_grad=1, device=cuda:0) = onnx::Relu[onnx_name=\"Relu_85\"](%input.292) # /home/shung/miniconda3/envs/STAS/lib/python3.8/site-packages/torch/nn/functional.py:1455:0\n",
      "  %input.300 : Float(1, 256, 50, 100, strides=[1280000, 5000, 100, 1], requires_grad=1, device=cuda:0) = onnx::Conv[dilations=[1, 1], group=1, kernel_shape=[3, 3], pads=[1, 1, 1, 1], strides=[1, 1], onnx_name=\"Conv_86\"](%onnx::Conv_502, %onnx::Conv_731, %onnx::Conv_732) # /home/shung/miniconda3/envs/STAS/lib/python3.8/site-packages/torch/nn/modules/conv.py:453:0\n",
      "  %onnx::Conv_505 : Float(1, 256, 50, 100, strides=[1280000, 5000, 100, 1], requires_grad=1, device=cuda:0) = onnx::Relu[onnx_name=\"Relu_87\"](%input.300) # /home/shung/miniconda3/envs/STAS/lib/python3.8/site-packages/torch/nn/functional.py:1455:0\n",
      "  %onnx::Add_733 : Float(1, 1024, 50, 100, strides=[5120000, 5000, 100, 1], requires_grad=1, device=cuda:0) = onnx::Conv[dilations=[1, 1], group=1, kernel_shape=[1, 1], pads=[0, 0, 0, 0], strides=[1, 1], onnx_name=\"Conv_88\"](%onnx::Conv_505, %onnx::Conv_734, %onnx::Conv_735) # /home/shung/miniconda3/envs/STAS/lib/python3.8/site-packages/torch/nn/modules/conv.py:453:0\n",
      "  %onnx::Relu_508 : Float(1, 1024, 50, 100, strides=[5120000, 5000, 100, 1], requires_grad=1, device=cuda:0) = onnx::Add[onnx_name=\"Add_89\"](%onnx::Add_733, %input.284) # /home/shung/miniconda3/envs/STAS/lib/python3.8/site-packages/torchvision/models/resnet.py:160:0\n",
      "  %input.308 : Float(1, 1024, 50, 100, strides=[5120000, 5000, 100, 1], requires_grad=1, device=cuda:0) = onnx::Relu[onnx_name=\"Relu_90\"](%onnx::Relu_508) # /home/shung/miniconda3/envs/STAS/lib/python3.8/site-packages/torch/nn/functional.py:1455:0\n",
      "  %input.316 : Float(1, 256, 50, 100, strides=[1280000, 5000, 100, 1], requires_grad=1, device=cuda:0) = onnx::Conv[dilations=[1, 1], group=1, kernel_shape=[1, 1], pads=[0, 0, 0, 0], strides=[1, 1], onnx_name=\"Conv_91\"](%input.308, %onnx::Conv_737, %onnx::Conv_738) # /home/shung/miniconda3/envs/STAS/lib/python3.8/site-packages/torch/nn/modules/conv.py:453:0\n",
      "  %onnx::Conv_512 : Float(1, 256, 50, 100, strides=[1280000, 5000, 100, 1], requires_grad=1, device=cuda:0) = onnx::Relu[onnx_name=\"Relu_92\"](%input.316) # /home/shung/miniconda3/envs/STAS/lib/python3.8/site-packages/torch/nn/functional.py:1455:0\n",
      "  %input.324 : Float(1, 256, 50, 100, strides=[1280000, 5000, 100, 1], requires_grad=1, device=cuda:0) = onnx::Conv[dilations=[1, 1], group=1, kernel_shape=[3, 3], pads=[1, 1, 1, 1], strides=[1, 1], onnx_name=\"Conv_93\"](%onnx::Conv_512, %onnx::Conv_740, %onnx::Conv_741) # /home/shung/miniconda3/envs/STAS/lib/python3.8/site-packages/torch/nn/modules/conv.py:453:0\n",
      "  %onnx::Conv_515 : Float(1, 256, 50, 100, strides=[1280000, 5000, 100, 1], requires_grad=1, device=cuda:0) = onnx::Relu[onnx_name=\"Relu_94\"](%input.324) # /home/shung/miniconda3/envs/STAS/lib/python3.8/site-packages/torch/nn/functional.py:1455:0\n",
      "  %onnx::Add_742 : Float(1, 1024, 50, 100, strides=[5120000, 5000, 100, 1], requires_grad=1, device=cuda:0) = onnx::Conv[dilations=[1, 1], group=1, kernel_shape=[1, 1], pads=[0, 0, 0, 0], strides=[1, 1], onnx_name=\"Conv_95\"](%onnx::Conv_515, %onnx::Conv_743, %onnx::Conv_744) # /home/shung/miniconda3/envs/STAS/lib/python3.8/site-packages/torch/nn/modules/conv.py:453:0\n",
      "  %onnx::Relu_518 : Float(1, 1024, 50, 100, strides=[5120000, 5000, 100, 1], requires_grad=1, device=cuda:0) = onnx::Add[onnx_name=\"Add_96\"](%onnx::Add_742, %input.308) # /home/shung/miniconda3/envs/STAS/lib/python3.8/site-packages/torchvision/models/resnet.py:160:0\n",
      "  %input.332 : Float(1, 1024, 50, 100, strides=[5120000, 5000, 100, 1], requires_grad=1, device=cuda:0) = onnx::Relu[onnx_name=\"Relu_97\"](%onnx::Relu_518) # /home/shung/miniconda3/envs/STAS/lib/python3.8/site-packages/torch/nn/functional.py:1455:0\n",
      "  %input.340 : Float(1, 512, 50, 100, strides=[2560000, 5000, 100, 1], requires_grad=1, device=cuda:0) = onnx::Conv[dilations=[2, 2], group=1, kernel_shape=[1, 1], pads=[0, 0, 0, 0], strides=[1, 1], onnx_name=\"Conv_98\"](%input.332, %onnx::Conv_746, %onnx::Conv_747) # /home/shung/miniconda3/envs/STAS/lib/python3.8/site-packages/torch/nn/modules/conv.py:453:0\n",
      "  %onnx::Conv_522 : Float(1, 512, 50, 100, strides=[2560000, 5000, 100, 1], requires_grad=1, device=cuda:0) = onnx::Relu[onnx_name=\"Relu_99\"](%input.340) # /home/shung/miniconda3/envs/STAS/lib/python3.8/site-packages/torch/nn/functional.py:1455:0\n",
      "  %input.348 : Float(1, 512, 50, 100, strides=[2560000, 5000, 100, 1], requires_grad=1, device=cuda:0) = onnx::Conv[dilations=[2, 2], group=1, kernel_shape=[3, 3], pads=[2, 2, 2, 2], strides=[1, 1], onnx_name=\"Conv_100\"](%onnx::Conv_522, %onnx::Conv_749, %onnx::Conv_750) # /home/shung/miniconda3/envs/STAS/lib/python3.8/site-packages/torch/nn/modules/conv.py:453:0\n",
      "  %onnx::Conv_525 : Float(1, 512, 50, 100, strides=[2560000, 5000, 100, 1], requires_grad=1, device=cuda:0) = onnx::Relu[onnx_name=\"Relu_101\"](%input.348) # /home/shung/miniconda3/envs/STAS/lib/python3.8/site-packages/torch/nn/functional.py:1455:0\n",
      "  %onnx::Add_751 : Float(1, 2048, 50, 100, strides=[10240000, 5000, 100, 1], requires_grad=1, device=cuda:0) = onnx::Conv[dilations=[2, 2], group=1, kernel_shape=[1, 1], pads=[0, 0, 0, 0], strides=[1, 1], onnx_name=\"Conv_102\"](%onnx::Conv_525, %onnx::Conv_752, %onnx::Conv_753) # /home/shung/miniconda3/envs/STAS/lib/python3.8/site-packages/torch/nn/modules/conv.py:453:0\n",
      "  %onnx::Add_754 : Float(1, 2048, 50, 100, strides=[10240000, 5000, 100, 1], requires_grad=1, device=cuda:0) = onnx::Conv[dilations=[2, 2], group=1, kernel_shape=[1, 1], pads=[0, 0, 0, 0], strides=[1, 1], onnx_name=\"Conv_103\"](%input.332, %onnx::Conv_755, %onnx::Conv_756) # /home/shung/miniconda3/envs/STAS/lib/python3.8/site-packages/torch/nn/modules/conv.py:453:0\n",
      "  %onnx::Relu_530 : Float(1, 2048, 50, 100, strides=[10240000, 5000, 100, 1], requires_grad=1, device=cuda:0) = onnx::Add[onnx_name=\"Add_104\"](%onnx::Add_751, %onnx::Add_754) # /home/shung/miniconda3/envs/STAS/lib/python3.8/site-packages/torchvision/models/resnet.py:160:0\n",
      "  %input.360 : Float(1, 2048, 50, 100, strides=[10240000, 5000, 100, 1], requires_grad=1, device=cuda:0) = onnx::Relu[onnx_name=\"Relu_105\"](%onnx::Relu_530) # /home/shung/miniconda3/envs/STAS/lib/python3.8/site-packages/torch/nn/functional.py:1455:0\n",
      "  %input.368 : Float(1, 512, 50, 100, strides=[2560000, 5000, 100, 1], requires_grad=1, device=cuda:0) = onnx::Conv[dilations=[2, 2], group=1, kernel_shape=[1, 1], pads=[0, 0, 0, 0], strides=[1, 1], onnx_name=\"Conv_106\"](%input.360, %onnx::Conv_758, %onnx::Conv_759) # /home/shung/miniconda3/envs/STAS/lib/python3.8/site-packages/torch/nn/modules/conv.py:453:0\n",
      "  %onnx::Conv_534 : Float(1, 512, 50, 100, strides=[2560000, 5000, 100, 1], requires_grad=1, device=cuda:0) = onnx::Relu[onnx_name=\"Relu_107\"](%input.368) # /home/shung/miniconda3/envs/STAS/lib/python3.8/site-packages/torch/nn/functional.py:1455:0\n",
      "  %input.376 : Float(1, 512, 50, 100, strides=[2560000, 5000, 100, 1], requires_grad=1, device=cuda:0) = onnx::Conv[dilations=[2, 2], group=1, kernel_shape=[3, 3], pads=[2, 2, 2, 2], strides=[1, 1], onnx_name=\"Conv_108\"](%onnx::Conv_534, %onnx::Conv_761, %onnx::Conv_762) # /home/shung/miniconda3/envs/STAS/lib/python3.8/site-packages/torch/nn/modules/conv.py:453:0\n",
      "  %onnx::Conv_537 : Float(1, 512, 50, 100, strides=[2560000, 5000, 100, 1], requires_grad=1, device=cuda:0) = onnx::Relu[onnx_name=\"Relu_109\"](%input.376) # /home/shung/miniconda3/envs/STAS/lib/python3.8/site-packages/torch/nn/functional.py:1455:0\n",
      "  %onnx::Add_763 : Float(1, 2048, 50, 100, strides=[10240000, 5000, 100, 1], requires_grad=1, device=cuda:0) = onnx::Conv[dilations=[2, 2], group=1, kernel_shape=[1, 1], pads=[0, 0, 0, 0], strides=[1, 1], onnx_name=\"Conv_110\"](%onnx::Conv_537, %onnx::Conv_764, %onnx::Conv_765) # /home/shung/miniconda3/envs/STAS/lib/python3.8/site-packages/torch/nn/modules/conv.py:453:0\n",
      "  %onnx::Relu_540 : Float(1, 2048, 50, 100, strides=[10240000, 5000, 100, 1], requires_grad=1, device=cuda:0) = onnx::Add[onnx_name=\"Add_111\"](%onnx::Add_763, %input.360) # /home/shung/miniconda3/envs/STAS/lib/python3.8/site-packages/torchvision/models/resnet.py:160:0\n",
      "  %input.384 : Float(1, 2048, 50, 100, strides=[10240000, 5000, 100, 1], requires_grad=1, device=cuda:0) = onnx::Relu[onnx_name=\"Relu_112\"](%onnx::Relu_540) # /home/shung/miniconda3/envs/STAS/lib/python3.8/site-packages/torch/nn/functional.py:1455:0\n",
      "  %input.392 : Float(1, 512, 50, 100, strides=[2560000, 5000, 100, 1], requires_grad=1, device=cuda:0) = onnx::Conv[dilations=[2, 2], group=1, kernel_shape=[1, 1], pads=[0, 0, 0, 0], strides=[1, 1], onnx_name=\"Conv_113\"](%input.384, %onnx::Conv_767, %onnx::Conv_768) # /home/shung/miniconda3/envs/STAS/lib/python3.8/site-packages/torch/nn/modules/conv.py:453:0\n",
      "  %onnx::Conv_544 : Float(1, 512, 50, 100, strides=[2560000, 5000, 100, 1], requires_grad=1, device=cuda:0) = onnx::Relu[onnx_name=\"Relu_114\"](%input.392) # /home/shung/miniconda3/envs/STAS/lib/python3.8/site-packages/torch/nn/functional.py:1455:0\n",
      "  %input.400 : Float(1, 512, 50, 100, strides=[2560000, 5000, 100, 1], requires_grad=1, device=cuda:0) = onnx::Conv[dilations=[2, 2], group=1, kernel_shape=[3, 3], pads=[2, 2, 2, 2], strides=[1, 1], onnx_name=\"Conv_115\"](%onnx::Conv_544, %onnx::Conv_770, %onnx::Conv_771) # /home/shung/miniconda3/envs/STAS/lib/python3.8/site-packages/torch/nn/modules/conv.py:453:0\n",
      "  %onnx::Conv_547 : Float(1, 512, 50, 100, strides=[2560000, 5000, 100, 1], requires_grad=1, device=cuda:0) = onnx::Relu[onnx_name=\"Relu_116\"](%input.400) # /home/shung/miniconda3/envs/STAS/lib/python3.8/site-packages/torch/nn/functional.py:1455:0\n",
      "  %onnx::Add_772 : Float(1, 2048, 50, 100, strides=[10240000, 5000, 100, 1], requires_grad=1, device=cuda:0) = onnx::Conv[dilations=[2, 2], group=1, kernel_shape=[1, 1], pads=[0, 0, 0, 0], strides=[1, 1], onnx_name=\"Conv_117\"](%onnx::Conv_547, %onnx::Conv_773, %onnx::Conv_774) # /home/shung/miniconda3/envs/STAS/lib/python3.8/site-packages/torch/nn/modules/conv.py:453:0\n",
      "  %onnx::Relu_550 : Float(1, 2048, 50, 100, strides=[10240000, 5000, 100, 1], requires_grad=1, device=cuda:0) = onnx::Add[onnx_name=\"Add_118\"](%onnx::Add_772, %input.384) # /home/shung/miniconda3/envs/STAS/lib/python3.8/site-packages/torchvision/models/resnet.py:160:0\n",
      "  %input.408 : Float(1, 2048, 50, 100, strides=[10240000, 5000, 100, 1], requires_grad=1, device=cuda:0) = onnx::Relu[onnx_name=\"Relu_119\"](%onnx::Relu_550) # /home/shung/miniconda3/envs/STAS/lib/python3.8/site-packages/torch/nn/functional.py:1455:0\n",
      "  %input.416 : Float(1, 256, 50, 100, strides=[1280000, 5000, 100, 1], requires_grad=1, device=cuda:0) = onnx::Conv[dilations=[1, 1], group=1, kernel_shape=[1, 1], pads=[0, 0, 0, 0], strides=[1, 1], onnx_name=\"Conv_120\"](%input.408, %onnx::Conv_776, %onnx::Conv_777) # /home/shung/miniconda3/envs/STAS/lib/python3.8/site-packages/torch/nn/modules/conv.py:453:0\n",
      "  %onnx::Concat_554 : Float(1, 256, 50, 100, strides=[1280000, 5000, 100, 1], requires_grad=1, device=cuda:0) = onnx::Relu[onnx_name=\"Relu_121\"](%input.416) # /home/shung/miniconda3/envs/STAS/lib/python3.8/site-packages/torch/nn/functional.py:1457:0\n",
      "  %input.420 : Float(1, 2048, 50, 100, strides=[10240000, 5000, 100, 1], requires_grad=0, device=cuda:0) = onnx::Conv[dilations=[12, 12], group=2048, kernel_shape=[3, 3], pads=[12, 12, 12, 12], strides=[1, 1], onnx_name=\"Conv_122\"](%input.408, %decoder.aspp.0.convs.1.0.0.weight) # /home/shung/miniconda3/envs/STAS/lib/python3.8/site-packages/torch/nn/modules/conv.py:453:0\n",
      "  %input.428 : Float(1, 256, 50, 100, strides=[1280000, 5000, 100, 1], requires_grad=1, device=cuda:0) = onnx::Conv[dilations=[1, 1], group=1, kernel_shape=[1, 1], pads=[0, 0, 0, 0], strides=[1, 1], onnx_name=\"Conv_123\"](%input.420, %onnx::Conv_779, %onnx::Conv_780) # /home/shung/miniconda3/envs/STAS/lib/python3.8/site-packages/torch/nn/modules/conv.py:453:0\n",
      "  %onnx::Concat_558 : Float(1, 256, 50, 100, strides=[1280000, 5000, 100, 1], requires_grad=1, device=cuda:0) = onnx::Relu[onnx_name=\"Relu_124\"](%input.428) # /home/shung/miniconda3/envs/STAS/lib/python3.8/site-packages/torch/nn/functional.py:1457:0\n",
      "  %input.432 : Float(1, 2048, 50, 100, strides=[10240000, 5000, 100, 1], requires_grad=0, device=cuda:0) = onnx::Conv[dilations=[24, 24], group=2048, kernel_shape=[3, 3], pads=[24, 24, 24, 24], strides=[1, 1], onnx_name=\"Conv_125\"](%input.408, %decoder.aspp.0.convs.2.0.0.weight) # /home/shung/miniconda3/envs/STAS/lib/python3.8/site-packages/torch/nn/modules/conv.py:453:0\n",
      "  %input.440 : Float(1, 256, 50, 100, strides=[1280000, 5000, 100, 1], requires_grad=1, device=cuda:0) = onnx::Conv[dilations=[1, 1], group=1, kernel_shape=[1, 1], pads=[0, 0, 0, 0], strides=[1, 1], onnx_name=\"Conv_126\"](%input.432, %onnx::Conv_782, %onnx::Conv_783) # /home/shung/miniconda3/envs/STAS/lib/python3.8/site-packages/torch/nn/modules/conv.py:453:0\n",
      "  %onnx::Concat_562 : Float(1, 256, 50, 100, strides=[1280000, 5000, 100, 1], requires_grad=1, device=cuda:0) = onnx::Relu[onnx_name=\"Relu_127\"](%input.440) # /home/shung/miniconda3/envs/STAS/lib/python3.8/site-packages/torch/nn/functional.py:1457:0\n",
      "  %input.444 : Float(1, 2048, 50, 100, strides=[10240000, 5000, 100, 1], requires_grad=0, device=cuda:0) = onnx::Conv[dilations=[36, 36], group=2048, kernel_shape=[3, 3], pads=[36, 36, 36, 36], strides=[1, 1], onnx_name=\"Conv_128\"](%input.408, %decoder.aspp.0.convs.3.0.0.weight) # /home/shung/miniconda3/envs/STAS/lib/python3.8/site-packages/torch/nn/modules/conv.py:453:0\n",
      "  %input.452 : Float(1, 256, 50, 100, strides=[1280000, 5000, 100, 1], requires_grad=1, device=cuda:0) = onnx::Conv[dilations=[1, 1], group=1, kernel_shape=[1, 1], pads=[0, 0, 0, 0], strides=[1, 1], onnx_name=\"Conv_129\"](%input.444, %onnx::Conv_785, %onnx::Conv_786) # /home/shung/miniconda3/envs/STAS/lib/python3.8/site-packages/torch/nn/modules/conv.py:453:0\n",
      "  %onnx::Concat_566 : Float(1, 256, 50, 100, strides=[1280000, 5000, 100, 1], requires_grad=1, device=cuda:0) = onnx::Relu[onnx_name=\"Relu_130\"](%input.452) # /home/shung/miniconda3/envs/STAS/lib/python3.8/site-packages/torch/nn/functional.py:1457:0\n",
      "  %input.456 : Float(1, 2048, 1, 1, strides=[2048, 1, 1, 1], requires_grad=1, device=cuda:0) = onnx::GlobalAveragePool[onnx_name=\"GlobalAveragePool_131\"](%input.408) # /home/shung/miniconda3/envs/STAS/lib/python3.8/site-packages/torch/nn/functional.py:1214:0\n",
      "  %input.464 : Float(1, 256, 1, 1, strides=[256, 1, 1, 1], requires_grad=1, device=cuda:0) = onnx::Conv[dilations=[1, 1], group=1, kernel_shape=[1, 1], pads=[0, 0, 0, 0], strides=[1, 1], onnx_name=\"Conv_132\"](%input.456, %onnx::Conv_788, %onnx::Conv_789) # /home/shung/miniconda3/envs/STAS/lib/python3.8/site-packages/torch/nn/modules/conv.py:453:0\n",
      "  %x : Float(1, 256, 1, 1, strides=[256, 1, 1, 1], requires_grad=1, device=cuda:0) = onnx::Relu[onnx_name=\"Relu_133\"](%input.464) # /home/shung/miniconda3/envs/STAS/lib/python3.8/site-packages/torch/nn/functional.py:1457:0\n",
      "  %onnx::Slice_578 : Long(4, strides=[1], device=cpu) = onnx::Shape[onnx_name=\"Shape_134\"](%x) # /home/shung/miniconda3/envs/STAS/lib/python3.8/site-packages/torch/nn/functional.py:3938:0\n",
      "  %onnx::Slice_579 : Long(1, strides=[1], device=cpu) = onnx::Constant[value={0}, onnx_name=\"Constant_135\"]() # /home/shung/miniconda3/envs/STAS/lib/python3.8/site-packages/torch/nn/functional.py:3938:0\n",
      "  %onnx::Slice_580 : Long(1, strides=[1], device=cpu) = onnx::Constant[value={0}, onnx_name=\"Constant_136\"]() # /home/shung/miniconda3/envs/STAS/lib/python3.8/site-packages/torch/nn/functional.py:3938:0\n",
      "  %onnx::Slice_581 : Long(1, strides=[1], device=cpu) = onnx::Constant[value={2}, onnx_name=\"Constant_137\"]() # /home/shung/miniconda3/envs/STAS/lib/python3.8/site-packages/torch/nn/functional.py:3938:0\n",
      "  %onnx::Concat_582 : Long(2, strides=[1], device=cpu) = onnx::Slice[onnx_name=\"Slice_138\"](%onnx::Slice_578, %onnx::Slice_580, %onnx::Slice_581, %onnx::Slice_579) # /home/shung/miniconda3/envs/STAS/lib/python3.8/site-packages/torch/nn/functional.py:3938:0\n",
      "  %onnx::Resize_584 : Long(4, strides=[1], device=cpu) = onnx::Concat[axis=0, onnx_name=\"Concat_139\"](%onnx::Concat_582, %onnx::Concat_805) # /home/shung/miniconda3/envs/STAS/lib/python3.8/site-packages/torch/nn/functional.py:3938:0\n",
      "  %onnx::Resize_585 : Tensor? = prim::Constant() # /home/shung/miniconda3/envs/STAS/lib/python3.8/site-packages/torch/nn/functional.py:3938:0\n",
      "  %onnx::Resize_586 : Tensor? = prim::Constant() # /home/shung/miniconda3/envs/STAS/lib/python3.8/site-packages/torch/nn/functional.py:3938:0\n",
      "  %onnx::Concat_587 : Float(*, *, *, *, strides=[1280000, 5000, 100, 1], requires_grad=1, device=cuda:0) = onnx::Resize[coordinate_transformation_mode=\"pytorch_half_pixel\", cubic_coeff_a=-0.75, mode=\"linear\", nearest_mode=\"floor\", onnx_name=\"Resize_140\"](%x, %onnx::Resize_585, %onnx::Resize_586, %onnx::Resize_584) # /home/shung/miniconda3/envs/STAS/lib/python3.8/site-packages/torch/nn/functional.py:3938:0\n",
      "  %input.468 : Float(*, *, *, *, strides=[6400000, 5000, 100, 1], requires_grad=1, device=cuda:0) = onnx::Concat[axis=1, onnx_name=\"Concat_141\"](%onnx::Concat_554, %onnx::Concat_558, %onnx::Concat_562, %onnx::Concat_566, %onnx::Concat_587) # /home/shung/miniconda3/envs/STAS/lib/python3.8/site-packages/segmentation_models_pytorch/deeplabv3/decoder.py:188:0\n",
      "  %input.476 : Float(*, *, *, *, strides=[1280000, 5000, 100, 1], requires_grad=1, device=cuda:0) = onnx::Conv[dilations=[1, 1], group=1, kernel_shape=[1, 1], pads=[0, 0, 0, 0], strides=[1, 1], onnx_name=\"Conv_142\"](%input.468, %onnx::Conv_791, %onnx::Conv_792) # /home/shung/miniconda3/envs/STAS/lib/python3.8/site-packages/torch/nn/modules/conv.py:453:0\n",
      "  %input.480 : Float(*, *, *, *, strides=[1280000, 5000, 100, 1], requires_grad=1, device=cuda:0) = onnx::Relu[onnx_name=\"Relu_143\"](%input.476) # /home/shung/miniconda3/envs/STAS/lib/python3.8/site-packages/torch/nn/functional.py:1457:0\n",
      "  %input.484 : Float(*, *, *, *, strides=[1280000, 5000, 100, 1], requires_grad=0, device=cuda:0) = onnx::Conv[dilations=[1, 1], group=256, kernel_shape=[3, 3], pads=[1, 1, 1, 1], strides=[1, 1], onnx_name=\"Conv_144\"](%input.480, %decoder.aspp.1.0.weight) # /home/shung/miniconda3/envs/STAS/lib/python3.8/site-packages/torch/nn/modules/conv.py:453:0\n",
      "  %input.492 : Float(*, *, *, *, strides=[1280000, 5000, 100, 1], requires_grad=1, device=cuda:0) = onnx::Conv[dilations=[1, 1], group=1, kernel_shape=[1, 1], pads=[0, 0, 0, 0], strides=[1, 1], onnx_name=\"Conv_145\"](%input.484, %onnx::Conv_794, %onnx::Conv_795) # /home/shung/miniconda3/envs/STAS/lib/python3.8/site-packages/torch/nn/modules/conv.py:453:0\n",
      "  %input.496 : Float(*, *, *, *, strides=[1280000, 5000, 100, 1], requires_grad=1, device=cuda:0) = onnx::Relu[onnx_name=\"Relu_146\"](%input.492) # /home/shung/miniconda3/envs/STAS/lib/python3.8/site-packages/torch/nn/functional.py:1457:0\n",
      "  %onnx::Resize_599 : Tensor? = prim::Constant() # /home/shung/miniconda3/envs/STAS/lib/python3.8/site-packages/torch/nn/functional.py:3938:0\n",
      "  %onnx::Concat_600 : Float(*, *, *, *, strides=[20480000, 80000, 400, 1], requires_grad=1, device=cuda:0) = onnx::Resize[coordinate_transformation_mode=\"align_corners\", cubic_coeff_a=-0.75, mode=\"linear\", nearest_mode=\"floor\", onnx_name=\"Resize_147\"](%input.496, %onnx::Resize_599, %onnx::Resize_806) # /home/shung/miniconda3/envs/STAS/lib/python3.8/site-packages/torch/nn/functional.py:3938:0\n",
      "  %input.504 : Float(1, 48, 200, 400, strides=[3840000, 80000, 400, 1], requires_grad=1, device=cuda:0) = onnx::Conv[dilations=[1, 1], group=1, kernel_shape=[1, 1], pads=[0, 0, 0, 0], strides=[1, 1], onnx_name=\"Conv_148\"](%input.84, %onnx::Conv_797, %onnx::Conv_798) # /home/shung/miniconda3/envs/STAS/lib/python3.8/site-packages/torch/nn/modules/conv.py:453:0\n",
      "  %onnx::Concat_603 : Float(1, 48, 200, 400, strides=[3840000, 80000, 400, 1], requires_grad=1, device=cuda:0) = onnx::Relu[onnx_name=\"Relu_149\"](%input.504) # /home/shung/miniconda3/envs/STAS/lib/python3.8/site-packages/torch/nn/functional.py:1457:0\n",
      "  %input.508 : Float(*, *, *, *, strides=[24320000, 80000, 400, 1], requires_grad=1, device=cuda:0) = onnx::Concat[axis=1, onnx_name=\"Concat_150\"](%onnx::Concat_600, %onnx::Concat_603) # /home/shung/miniconda3/envs/STAS/lib/python3.8/site-packages/segmentation_models_pytorch/deeplabv3/decoder.py:102:0\n",
      "  %input.512 : Float(*, *, *, *, strides=[24320000, 80000, 400, 1], requires_grad=0, device=cuda:0) = onnx::Conv[dilations=[1, 1], group=304, kernel_shape=[3, 3], pads=[1, 1, 1, 1], strides=[1, 1], onnx_name=\"Conv_151\"](%input.508, %decoder.block2.0.0.weight) # /home/shung/miniconda3/envs/STAS/lib/python3.8/site-packages/torch/nn/modules/conv.py:453:0\n",
      "  %input.520 : Float(*, *, *, *, strides=[20480000, 80000, 400, 1], requires_grad=1, device=cuda:0) = onnx::Conv[dilations=[1, 1], group=1, kernel_shape=[1, 1], pads=[0, 0, 0, 0], strides=[1, 1], onnx_name=\"Conv_152\"](%input.512, %onnx::Conv_800, %onnx::Conv_801) # /home/shung/miniconda3/envs/STAS/lib/python3.8/site-packages/torch/nn/modules/conv.py:453:0\n",
      "  %input.524 : Float(*, *, *, *, strides=[20480000, 80000, 400, 1], requires_grad=1, device=cuda:0) = onnx::Relu[onnx_name=\"Relu_153\"](%input.520) # /home/shung/miniconda3/envs/STAS/lib/python3.8/site-packages/torch/nn/functional.py:1457:0\n",
      "  %input.528 : Float(*, *, *, *, strides=[80000, 80000, 400, 1], requires_grad=0, device=cuda:0) = onnx::Conv[dilations=[1, 1], group=1, kernel_shape=[1, 1], pads=[0, 0, 0, 0], strides=[1, 1], onnx_name=\"Conv_154\"](%input.524, %segmentation_head.0.weight, %segmentation_head.0.bias) # /home/shung/miniconda3/envs/STAS/lib/python3.8/site-packages/torch/nn/modules/conv.py:453:0\n",
      "  %onnx::Resize_613 : Tensor? = prim::Constant() # /home/shung/miniconda3/envs/STAS/lib/python3.8/site-packages/torch/nn/functional.py:3938:0\n",
      "  %onnx::Sigmoid_614 : Float(*, *, *, *, strides=[1280000, 1280000, 1600, 1], requires_grad=1, device=cuda:0) = onnx::Resize[coordinate_transformation_mode=\"align_corners\", cubic_coeff_a=-0.75, mode=\"linear\", nearest_mode=\"floor\", onnx_name=\"Resize_155\"](%input.528, %onnx::Resize_613, %onnx::Resize_807) # /home/shung/miniconda3/envs/STAS/lib/python3.8/site-packages/torch/nn/functional.py:3938:0\n",
      "  %615 : Float(*, *, *, *, strides=[1280000, 1280000, 1600, 1], requires_grad=1, device=cuda:0) = onnx::Sigmoid[onnx_name=\"Sigmoid_156\"](%onnx::Sigmoid_614) # /home/shung/miniconda3/envs/STAS/lib/python3.8/site-packages/torch/nn/modules/activation.py:290:0\n",
      "  return (%615)\n",
      "\n"
     ]
    }
   ],
   "source": [
    "dummy_input = torch.randn(1, 3, IMAGE_HEIGHT, IMAGE_WIDTH).to(DEVICE)\n",
    "model = torch.load('./Models/Deeplabv3P_resnet50_batch16.pth')\n",
    "model.eval()\n",
    "torch.onnx.export(model.module, dummy_input, onnx_path, verbose=True, )"
   ]
  },
  {
   "cell_type": "code",
   "execution_count": 5,
   "metadata": {},
   "outputs": [
    {
     "name": "stdout",
     "output_type": "stream",
     "text": [
      "Model Optimizer command to convert the ONNX model to OpenVINO:\n"
     ]
    },
    {
     "data": {
      "text/markdown": [
       "`mo --input_model \"OpenVINO/Deeplabv3P_resnet50_batch16.onnx\" --input_shape \"[1, 3, 800, 1600]\" --data_type FP16 --output_dir \"./OpenVINO\"`"
      ],
      "text/plain": [
       "<IPython.core.display.Markdown object>"
      ]
     },
     "metadata": {},
     "output_type": "display_data"
    }
   ],
   "source": [
    "mo_cmd = f\"\"\"mo\n",
    "            --input_model \"{onnx_path}\"\n",
    "            --input_shape \"[1, 3, {IMAGE_HEIGHT}, {IMAGE_WIDTH}]\"\n",
    "            --data_type FP16\n",
    "            --output_dir \"{OUTPUT_PATH}\"\n",
    "            \"\"\"\n",
    "mo_cmd = \" \".join(mo_cmd.split())\n",
    "print(\"Model Optimizer command to convert the ONNX model to OpenVINO:\")\n",
    "display(Markdown(f\"`{mo_cmd}`\"))"
   ]
  },
  {
   "cell_type": "code",
   "execution_count": 6,
   "metadata": {},
   "outputs": [
    {
     "name": "stdout",
     "output_type": "stream",
     "text": [
      "IR model OpenVINO/Deeplabv3P_resnet50_batch16.xml already exists.\n"
     ]
    }
   ],
   "source": [
    "if not ir_path.exists():\n",
    "    print(\"Exporting ONNX model to IR... This may take a few minutes.\")\n",
    "    mo_result = %sx $mo_cmd\n",
    "    print(\"\\n\".join(mo_result))\n",
    "    print(\"DONE\")\n",
    "else:\n",
    "    print(f\"IR model {ir_path} already exists.\")"
   ]
  },
  {
   "cell_type": "markdown",
   "metadata": {},
   "source": [
    "# Show Results"
   ]
  },
  {
   "cell_type": "code",
   "execution_count": 4,
   "metadata": {},
   "outputs": [],
   "source": [
    "def normalize(image: np.ndarray, input_range=[0, 1], mean=(0.485, 0.456, 0.406), std=(0.229, 0.224, 0.225)) -> np.ndarray:\n",
    "    # image = image.astype(np.float32)\n",
    "    if input_range is not None:\n",
    "        if image.max() > 1 and input_range[1] == 1:\n",
    "            image = image / 255.0\n",
    "\n",
    "    if mean is not None:\n",
    "        mean = np.array(mean)\n",
    "        image = image - mean\n",
    "\n",
    "    if std is not None:\n",
    "        std = np.array(std)\n",
    "        image = image / std\n",
    "    return image"
   ]
  },
  {
   "cell_type": "code",
   "execution_count": 5,
   "metadata": {},
   "outputs": [],
   "source": [
    "image_filename = cfg.INFERENCE_IMAGE_DIR + \"/Private_00000045.jpg\"\n",
    "image = cv2.cvtColor(cv2.imread(image_filename), cv2.COLOR_BGR2RGB)\n",
    "\n",
    "resized_image = cv2.resize(image, (IMAGE_WIDTH, IMAGE_HEIGHT))\n",
    "normalized_image = normalize(resized_image)\n",
    "\n",
    "# Convert the resized images to network input shape.\n",
    "input_image = np.expand_dims(np.transpose(resized_image, (2, 0, 1)), 0).astype(float)\n",
    "normalized_input_image = np.expand_dims(np.transpose(normalized_image, (2, 0, 1)), 0).astype(float)"
   ]
  },
  {
   "cell_type": "markdown",
   "metadata": {},
   "source": [
    "# Load the OpenVINO IR Network and Run Inference on the ONNX model"
   ]
  },
  {
   "cell_type": "markdown",
   "metadata": {},
   "source": [
    "1. ONNX Model in OpenVINO Runtime"
   ]
  },
  {
   "cell_type": "code",
   "execution_count": 6,
   "metadata": {},
   "outputs": [],
   "source": [
    "from openvino.runtime import Core"
   ]
  },
  {
   "cell_type": "code",
   "execution_count": 7,
   "metadata": {},
   "outputs": [],
   "source": [
    "# Load the network to OpenVINO Runtime.\n",
    "ie = Core()\n",
    "model_onnx = ie.read_model(model=onnx_path)\n",
    "compiled_model_onnx = ie.compile_model(model=model_onnx, device_name=\"CPU\")\n",
    "\n",
    "output_layer_onnx = compiled_model_onnx.output(0)\n",
    "\n",
    "# Run inference on the input image.\n",
    "res_onnx = compiled_model_onnx([normalized_input_image])[output_layer_onnx]"
   ]
  },
  {
   "cell_type": "code",
   "execution_count": 21,
   "metadata": {},
   "outputs": [],
   "source": [
    "# Convert the network result to a segmentation map and display the result.\n",
    "# result_mask_onnx = np.squeeze(np.argmax(res_onnx, axis=1)).astype(np.uint8)\n",
    "result_mask_onnx = np.squeeze(res_onnx).round()"
   ]
  },
  {
   "cell_type": "code",
   "execution_count": 23,
   "metadata": {},
   "outputs": [],
   "source": [
    "zeros = np.zeros((800, 1600, 3))\n",
    "zeros[...,0] = result_mask_onnx\n",
    "zeros[...,1] = result_mask_onnx\n",
    "zeros[...,2] = result_mask_onnx\n",
    "zeros = cv2.resize(zeros, (1716, 942))"
   ]
  },
  {
   "cell_type": "code",
   "execution_count": 24,
   "metadata": {},
   "outputs": [
    {
     "data": {
      "text/plain": [
       "True"
      ]
     },
     "execution_count": 24,
     "metadata": {},
     "output_type": "execute_result"
    },
    {
     "data": {
      "image/png": "[encoded data removed]",
      "text/plain": [
       "<Figure size 640x480 with 1 Axes>"
      ]
     },
     "metadata": {},
     "output_type": "display_data"
    }
   ],
   "source": [
    "plt.imshow(zeros)\n",
    "cv2.imwrite(\"result.jpg\", zeros)"
   ]
  },
  {
   "cell_type": "code",
   "execution_count": 30,
   "metadata": {},
   "outputs": [
    {
     "name": "stdout",
     "output_type": "stream",
     "text": [
      "CPU: 12th Gen Intel(R) Core(TM) i7-12700\n"
     ]
    }
   ],
   "source": [
    "devices = ie.available_devices\n",
    "for device in devices:\n",
    "    device_name = ie.get_property(device, \"FULL_DEVICE_NAME\")\n",
    "    print(f\"{device}: {device_name}\")"
   ]
  },
  {
   "cell_type": "markdown",
   "metadata": {},
   "source": [
    "# torch output"
   ]
  },
  {
   "cell_type": "code",
   "execution_count": 16,
   "metadata": {},
   "outputs": [
    {
     "name": "stdout",
     "output_type": "stream",
     "text": [
      "(1, 3, 800, 1600)\n",
      "torch.Size([1, 1, 800, 1600])\n",
      "(800, 1600)\n"
     ]
    },
    {
     "data": {
      "text/plain": [
       "<matplotlib.image.AxesImage at 0x7f2e78ae2e50>"
      ]
     },
     "execution_count": 16,
     "metadata": {},
     "output_type": "execute_result"
    },
    {
     "data": {
      "image/png": "[encoded data removed]",
      "text/plain": [
       "<Figure size 640x480 with 1 Axes>"
      ]
     },
     "metadata": {},
     "output_type": "display_data"
    }
   ],
   "source": [
    "# best_model= torch.load('./Models/Deeplabv3P_resnet50_batch16_new_aug_SAM_epoch200_ori.pth')\n",
    "best_model = torch.load(os.path.join(cfg.MODEL_DIR, \"Deeplabv3P_resnet50_batch16.pth\"))\n",
    "best_model.eval()\n",
    "\n",
    "x_tensor = torch.from_numpy(normalized_input_image).to(DEVICE)\n",
    "\n",
    "with torch.no_grad():\n",
    "    pr_mask = best_model(x_tensor.float())\n",
    "    pr_mask = (pr_mask.squeeze().cpu().numpy().round())\n",
    "zeros = np.zeros((800, 1600, 3))\n",
    "zeros[...,0] = pr_mask\n",
    "zeros[...,1] = pr_mask\n",
    "zeros[...,2] = pr_mask\n",
    "zeros = cv2.resize(zeros, (1716, 942))\n",
    "plt.imshow(zeros)"
   ]
  }
 ],
 "metadata": {
  "kernelspec": {
   "display_name": "Python 3.8.13 ('STAS')",
   "language": "python",
   "name": "python3"
  },
  "language_info": {
   "codemirror_mode": {
    "name": "ipython",
    "version": 3
   },
   "file_extension": ".py",
   "mimetype": "text/x-python",
   "name": "python",
   "nbconvert_exporter": "python",
   "pygments_lexer": "ipython3",
   "version": "3.8.13"
  },
  "orig_nbformat": 4,
  "vscode": {
   "interpreter": {
    "hash": "f2a77fa5ff3b4a3d842c95c61c2f24c3f02a794fe412cf17ca365a205b92adca"
   }
  }
 },
 "nbformat": 4,
 "nbformat_minor": 2
}
